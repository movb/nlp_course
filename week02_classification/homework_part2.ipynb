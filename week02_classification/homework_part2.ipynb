{
  "nbformat": 4,
  "nbformat_minor": 0,
  "metadata": {
    "kernelspec": {
      "display_name": "Python 3",
      "language": "python",
      "name": "python3"
    },
    "language_info": {
      "codemirror_mode": {
        "name": "ipython",
        "version": 3
      },
      "file_extension": ".py",
      "mimetype": "text/x-python",
      "name": "python",
      "nbconvert_exporter": "python",
      "pygments_lexer": "ipython3",
      "version": "3.7.3"
    },
    "colab": {
      "name": "homework_part2.ipynb",
      "provenance": []
    }
  },
  "cells": [
    {
      "cell_type": "markdown",
      "metadata": {
        "id": "Uek0_ErXQgqs",
        "colab_type": "text"
      },
      "source": [
        "### Salary prediction, episode II: make it actually work (4 points)\n",
        "\n",
        "Your main task is to use some of the tricks you've learned on the network and analyze if you can improve __validation MAE__. Try __at least 3 options__ from the list below for a passing grade. Write a short report about what you have tried. More ideas = more bonus points. \n",
        "\n",
        "__Please be serious:__ \" plot learning curves in MAE/epoch, compare models based on optimal performance, test one change at a time. You know the drill :)\n",
        "\n",
        "You can use either pure __tensorflow__ or __keras__. Feel free to adapt the seminar code for your needs.\n"
      ]
    },
    {
      "cell_type": "code",
      "metadata": {
        "id": "PoaghK4rbHhd",
        "colab_type": "code",
        "colab": {}
      },
      "source": [
        "import numpy as np\n",
        "import pandas as pd\n",
        "import matplotlib.pyplot as plt\n",
        "%matplotlib inline"
      ],
      "execution_count": 0,
      "outputs": []
    },
    {
      "cell_type": "code",
      "metadata": {
        "id": "uGFvKnTfQgqt",
        "colab_type": "code",
        "outputId": "b174f47b-d2e8-4e90-b2b1-5b2a1ab8e1b3",
        "colab": {
          "base_uri": "https://localhost:8080/",
          "height": 136
        }
      },
      "source": [
        "!curl -L https://www.dropbox.com/s/5msc5ix7ndyba10/Train_rev1.csv.tar.gz?dl=1 -o Train_rev1.csv.tar.gz\n",
        "!tar -xvzf ./Train_rev1.csv.tar.gz\n",
        "data = pd.read_csv(\"./Train_rev1.csv\", index_col=None)\n",
        "data.shape"
      ],
      "execution_count": 0,
      "outputs": [
        {
          "output_type": "stream",
          "text": [
            "  % Total    % Received % Xferd  Average Speed   Time    Time     Time  Current\n",
            "                                 Dload  Upload   Total   Spent    Left  Speed\n",
            "  0     0    0     0    0     0      0      0 --:--:-- --:--:-- --:--:--     0\n",
            "  0     0    0     0    0     0      0      0 --:--:-- --:--:-- --:--:--     0\n",
            "100  119M  100  119M    0     0  25.5M      0  0:00:04  0:00:04 --:--:-- 38.7M\n",
            "Train_rev1.csv\n"
          ],
          "name": "stdout"
        },
        {
          "output_type": "execute_result",
          "data": {
            "text/plain": [
              "(244768, 12)"
            ]
          },
          "metadata": {
            "tags": []
          },
          "execution_count": 1
        }
      ]
    },
    {
      "cell_type": "code",
      "metadata": {
        "id": "LlbIaGkEcmX5",
        "colab_type": "code",
        "colab": {}
      },
      "source": [
        "data['Log1pSalary'] = np.log1p(data['SalaryNormalized']).astype('float32')"
      ],
      "execution_count": 0,
      "outputs": []
    },
    {
      "cell_type": "code",
      "metadata": {
        "id": "ki9_ZGBqbJoW",
        "colab_type": "code",
        "outputId": "d0a4d6ac-1fe7-486f-ced1-5b89c80b170f",
        "colab": {
          "base_uri": "https://localhost:8080/",
          "height": 281
        }
      },
      "source": [
        "text_columns = [\"Title\", \"FullDescription\"]\n",
        "categorical_columns = [\"Category\", \"Company\", \"LocationNormalized\", \"ContractType\", \"ContractTime\"]\n",
        "target_column = \"Log1pSalary\"\n",
        "\n",
        "data[categorical_columns] = data[categorical_columns].fillna('NaN') # cast missing values to string \"NaN\"\n",
        "\n",
        "data.sample(3)"
      ],
      "execution_count": 0,
      "outputs": [
        {
          "output_type": "execute_result",
          "data": {
            "text/html": [
              "<div>\n",
              "<style scoped>\n",
              "    .dataframe tbody tr th:only-of-type {\n",
              "        vertical-align: middle;\n",
              "    }\n",
              "\n",
              "    .dataframe tbody tr th {\n",
              "        vertical-align: top;\n",
              "    }\n",
              "\n",
              "    .dataframe thead th {\n",
              "        text-align: right;\n",
              "    }\n",
              "</style>\n",
              "<table border=\"1\" class=\"dataframe\">\n",
              "  <thead>\n",
              "    <tr style=\"text-align: right;\">\n",
              "      <th></th>\n",
              "      <th>Id</th>\n",
              "      <th>Title</th>\n",
              "      <th>FullDescription</th>\n",
              "      <th>LocationRaw</th>\n",
              "      <th>LocationNormalized</th>\n",
              "      <th>ContractType</th>\n",
              "      <th>ContractTime</th>\n",
              "      <th>Company</th>\n",
              "      <th>Category</th>\n",
              "      <th>SalaryRaw</th>\n",
              "      <th>SalaryNormalized</th>\n",
              "      <th>SourceName</th>\n",
              "      <th>Log1pSalary</th>\n",
              "    </tr>\n",
              "  </thead>\n",
              "  <tbody>\n",
              "    <tr>\n",
              "      <th>27011</th>\n",
              "      <td>67889804</td>\n",
              "      <td>graduate implementation consultant : private b...</td>\n",
              "      <td>graduate implementation consultant java , j **...</td>\n",
              "      <td>London Greater London</td>\n",
              "      <td>London</td>\n",
              "      <td>NaN</td>\n",
              "      <td>permanent</td>\n",
              "      <td>NaN</td>\n",
              "      <td>IT Jobs</td>\n",
              "      <td>30000</td>\n",
              "      <td>30000</td>\n",
              "      <td>technojobs.co.uk</td>\n",
              "      <td>10.308986</td>\n",
              "    </tr>\n",
              "    <tr>\n",
              "      <th>11730</th>\n",
              "      <td>66540558</td>\n",
              "      <td>human resources adviser</td>\n",
              "      <td>bournemouth university is a vibrant and intern...</td>\n",
              "      <td>Bournemouth</td>\n",
              "      <td>Bournemouth</td>\n",
              "      <td>full_time</td>\n",
              "      <td>NaN</td>\n",
              "      <td>Other</td>\n",
              "      <td>HR &amp; Recruitment Jobs</td>\n",
              "      <td>31,331.00 - 36,298.00 per year</td>\n",
              "      <td>33814</td>\n",
              "      <td>Jobcentre Plus</td>\n",
              "      <td>10.428659</td>\n",
              "    </tr>\n",
              "    <tr>\n",
              "      <th>1334</th>\n",
              "      <td>46637246</td>\n",
              "      <td>home care assistant chingford</td>\n",
              "      <td>medacs healthcare are currently recruiting hom...</td>\n",
              "      <td>Chingford, London</td>\n",
              "      <td>Chingford</td>\n",
              "      <td>part_time</td>\n",
              "      <td>NaN</td>\n",
              "      <td>NaN</td>\n",
              "      <td>Healthcare &amp; Nursing Jobs</td>\n",
              "      <td>7.00 to 7.00 per hour</td>\n",
              "      <td>13440</td>\n",
              "      <td>careworx.co.uk</td>\n",
              "      <td>9.506065</td>\n",
              "    </tr>\n",
              "  </tbody>\n",
              "</table>\n",
              "</div>"
            ],
            "text/plain": [
              "             Id  ... Log1pSalary\n",
              "27011  67889804  ...   10.308986\n",
              "11730  66540558  ...   10.428659\n",
              "1334   46637246  ...    9.506065\n",
              "\n",
              "[3 rows x 13 columns]"
            ]
          },
          "metadata": {
            "tags": []
          },
          "execution_count": 18
        }
      ]
    },
    {
      "cell_type": "code",
      "metadata": {
        "id": "jU4wvMOVbPGk",
        "colab_type": "code",
        "colab": {}
      },
      "source": [
        "import nltk\n",
        "tokenizer = nltk.tokenize.WordPunctTokenizer()\n",
        "\n",
        "def tokenize(text):\n",
        "    return \" \".join(tokenizer.tokenize(str(text).lower()))\n",
        "# see task above\n",
        "data[\"Title\"] = data[\"Title\"].apply(tokenize)\n",
        "data[\"FullDescription\"] = data[\"FullDescription\"].apply(tokenize)"
      ],
      "execution_count": 0,
      "outputs": []
    },
    {
      "cell_type": "code",
      "metadata": {
        "id": "HMAZ11n0ba9A",
        "colab_type": "code",
        "colab": {}
      },
      "source": [
        "# Count how many times does each token occur in both \"Title\" and \"FullDescription\" in total\n",
        "# build a dictionary { token -> it's count }\n",
        "from collections import Counter\n",
        "token_counts = Counter(token for col in text_columns\n",
        "                             for text in data[col]\n",
        "                             for token in text.split())\n",
        "\n",
        "# hint: you may or may not want to use collections.Counter"
      ],
      "execution_count": 0,
      "outputs": []
    },
    {
      "cell_type": "code",
      "metadata": {
        "id": "vQuEj2pybggn",
        "colab_type": "code",
        "outputId": "fa2dc119-c307-46d3-e33e-1700639bce9c",
        "colab": {
          "base_uri": "https://localhost:8080/",
          "height": 34
        }
      },
      "source": [
        "min_count = 10\n",
        "\n",
        "# tokens from token_counts keys that had at least min_count occurrences throughout the dataset\n",
        "tokens = [token for token,count in token_counts.items() if count >= min_count]\n",
        "\n",
        "UNK, PAD = \"UNK\", \"PAD\"\n",
        "tokens = [UNK, PAD] + sorted(tokens)\n",
        "print(\"Vocabulary size:\", len(tokens))"
      ],
      "execution_count": 0,
      "outputs": [
        {
          "output_type": "stream",
          "text": [
            "Vocabulary size: 34158\n"
          ],
          "name": "stdout"
        }
      ]
    },
    {
      "cell_type": "code",
      "metadata": {
        "id": "ihiT7EeLbuJh",
        "colab_type": "code",
        "colab": {}
      },
      "source": [
        "token_to_id = {item:num for num,item in enumerate(tokens)}"
      ],
      "execution_count": 0,
      "outputs": []
    },
    {
      "cell_type": "code",
      "metadata": {
        "id": "SuM7cgORbxcx",
        "colab_type": "code",
        "colab": {}
      },
      "source": [
        "UNK_IX, PAD_IX = map(token_to_id.get, [UNK, PAD])\n",
        "\n",
        "def as_matrix(sequences, max_len=None):\n",
        "    \"\"\" Convert a list of tokens into a matrix with padding \"\"\"\n",
        "    if isinstance(sequences[0], str):\n",
        "        sequences = list(map(str.split, sequences))\n",
        "        \n",
        "    max_len = min(max(map(len, sequences)), max_len or float('inf'))\n",
        "    \n",
        "    matrix = np.full((len(sequences), max_len), np.int32(PAD_IX))\n",
        "    for i,seq in enumerate(sequences):\n",
        "        row_ix = [token_to_id.get(word, UNK_IX) for word in seq[:max_len]]\n",
        "        matrix[i, :len(row_ix)] = row_ix\n",
        "    \n",
        "    return matrix"
      ],
      "execution_count": 0,
      "outputs": []
    },
    {
      "cell_type": "code",
      "metadata": {
        "id": "IEgTvfs4b0vh",
        "colab_type": "code",
        "outputId": "3359f688-b973-4aa4-805e-f98fc26101c8",
        "colab": {
          "base_uri": "https://localhost:8080/",
          "height": 51
        }
      },
      "source": [
        "from sklearn.feature_extraction import DictVectorizer\n",
        "\n",
        "# we only consider top-1k most frequent companies to minimize memory usage\n",
        "top_companies, top_counts = zip(*Counter(data['Company']).most_common(1000))\n",
        "recognized_companies = set(top_companies)\n",
        "data[\"Company\"] = data[\"Company\"].apply(lambda comp: comp if comp in recognized_companies else \"Other\")\n",
        "\n",
        "categorical_vectorizer = DictVectorizer(dtype=np.float32, sparse=False)\n",
        "categorical_vectorizer.fit(data[categorical_columns].apply(dict, axis=1))"
      ],
      "execution_count": 0,
      "outputs": [
        {
          "output_type": "execute_result",
          "data": {
            "text/plain": [
              "DictVectorizer(dtype=<class 'numpy.float32'>, separator='=', sort=True,\n",
              "               sparse=False)"
            ]
          },
          "metadata": {
            "tags": []
          },
          "execution_count": 23
        }
      ]
    },
    {
      "cell_type": "code",
      "metadata": {
        "id": "xUCE2xMab474",
        "colab_type": "code",
        "outputId": "ec4999b1-1a47-46e0-9517-582e1bb57c17",
        "colab": {
          "base_uri": "https://localhost:8080/",
          "height": 51
        }
      },
      "source": [
        "from sklearn.model_selection import train_test_split\n",
        "\n",
        "data_train, data_val = train_test_split(data, test_size=0.2, random_state=42)\n",
        "data_train.index = range(len(data_train))\n",
        "data_val.index = range(len(data_val))\n",
        "\n",
        "print(\"Train size = \", len(data_train))\n",
        "print(\"Validation size = \", len(data_val))"
      ],
      "execution_count": 0,
      "outputs": [
        {
          "output_type": "stream",
          "text": [
            "Train size =  195814\n",
            "Validation size =  48954\n"
          ],
          "name": "stdout"
        }
      ]
    },
    {
      "cell_type": "code",
      "metadata": {
        "id": "XONyGaT1b8ys",
        "colab_type": "code",
        "colab": {}
      },
      "source": [
        "def make_batch(data, max_len=None, word_dropout=0):\n",
        "    \"\"\"\n",
        "    Creates a keras-friendly dict from the batch data.\n",
        "    :param word_dropout: replaces token index with UNK_IX with this probability\n",
        "    :returns: a dict with {'title' : int64[batch, title_max_len]\n",
        "    \"\"\"\n",
        "    batch = {}\n",
        "    batch[\"Title\"] = as_matrix(data[\"Title\"].values, max_len)\n",
        "    batch[\"FullDescription\"] = as_matrix(data[\"FullDescription\"].values, max_len)\n",
        "    batch['Categorical'] = categorical_vectorizer.transform(data[categorical_columns].apply(dict, axis=1))\n",
        "    \n",
        "    if word_dropout != 0:\n",
        "        batch[\"FullDescription\"] = apply_word_dropout(batch[\"FullDescription\"], 1. - word_dropout)\n",
        "    \n",
        "    if target_column in data.columns:\n",
        "        batch[target_column] = data[target_column].values\n",
        "    \n",
        "    return batch\n",
        "\n",
        "def apply_word_dropout(matrix, keep_prop, replace_with=UNK_IX, pad_ix=PAD_IX,):\n",
        "    dropout_mask = np.random.choice(2, np.shape(matrix), p=[keep_prop, 1 - keep_prop])\n",
        "    dropout_mask &= matrix != pad_ix\n",
        "    return np.choose(dropout_mask, [matrix, np.full_like(matrix, replace_with)])"
      ],
      "execution_count": 0,
      "outputs": []
    },
    {
      "cell_type": "code",
      "metadata": {
        "id": "U1AsBqy8cAmy",
        "colab_type": "code",
        "colab": {}
      },
      "source": [
        "import keras\n",
        "import keras.layers as L\n",
        "\n",
        "def build_model(n_tokens=len(tokens), n_cat_features=len(categorical_vectorizer.vocabulary_), hid_size=64):\n",
        "    \"\"\" Build a model that maps three data sources to a single linear output: predicted log1p(salary) \"\"\"\n",
        "    \n",
        "    l_title = L.Input(shape=[None], name=\"Title\")\n",
        "    l_descr = L.Input(shape=[None], name=\"FullDescription\")\n",
        "    l_categ = L.Input(shape=[n_cat_features], name=\"Categorical\")\n",
        "    \n",
        "    # Build your monster!\n",
        "    \n",
        "    l_title_emb = L.Embedding(len(tokens), 64)(l_title)\n",
        "    l_title_emb = L.Conv1D(128, 2, activation='relu')(l_title_emb)\n",
        "    l_title_emb = L.MaxPooling1D(5)(l_title_emb)\n",
        "    l_title_emb = L.Conv1D(128, 2, activation='relu')(l_title_emb)\n",
        "    #l_title_emb = L.MaxPooling1D(5)(l_title_emb)\n",
        "    #l_title_emb = L.Conv1D(128, 5, activation='relu')(l_title_emb)\n",
        "    l_title_emb = L.GlobalMaxPool1D()(l_title_emb)\n",
        "    l_title_emb = L.Dense(128, activation='relu')(l_title_emb)\n",
        "    \n",
        "    l_descr_emb = L.Embedding(len(tokens), 64)(l_descr)\n",
        "    l_descr_emb = L.Conv1D(128, 2, activation='relu')(l_descr_emb)\n",
        "    l_descr_emb = L.MaxPooling1D(5)(l_descr_emb)\n",
        "    l_descr_emb = L.Conv1D(128, 2, activation='relu')(l_descr_emb)\n",
        "    l_descr_emb = L.GlobalMaxPool1D()(l_descr_emb)\n",
        "    l_descr_emb = L.Dense(128, activation='relu')(l_descr_emb)\n",
        "    \n",
        "    l_cat_emb = L.Dense(128)(l_categ)\n",
        "    l_cat_emb = L.Dense(32)(l_cat_emb)\n",
        "    \n",
        "    output_layer = L.Concatenate()([l_title_emb, l_descr_emb, l_cat_emb])\n",
        "    output_layer = L.Dense(128)(output_layer)\n",
        "    output_layer = L.Dense(1)(output_layer)\n",
        "    # end of your code\n",
        "    \n",
        "    model = keras.models.Model(inputs=[l_title, l_descr, l_categ], outputs=[output_layer])\n",
        "    model.compile('adam', 'mean_squared_error', metrics=['mean_absolute_error'])\n",
        "    return model"
      ],
      "execution_count": 0,
      "outputs": []
    },
    {
      "cell_type": "code",
      "metadata": {
        "id": "sJBaP5KacEVC",
        "colab_type": "code",
        "outputId": "5259fad1-88e2-4945-9fe8-c12a331b09e6",
        "colab": {
          "base_uri": "https://localhost:8080/",
          "height": 867
        }
      },
      "source": [
        "model = build_model()\n",
        "model.summary()\n",
        "\n",
        "dummy_pred = model.predict(make_batch(data_train[:100]))\n",
        "dummy_loss = model.train_on_batch(make_batch(data_train[:100]), data_train['Log1pSalary'][:100])[0]\n",
        "assert dummy_pred.shape == (100, 1)\n",
        "assert len(np.unique(dummy_pred)) > 20, \"model returns suspiciously few unique outputs. Check your initialization\"\n",
        "assert np.ndim(dummy_loss) == 0 and 0. <= dummy_loss <= 250., \"make sure you minimize MSE\""
      ],
      "execution_count": 0,
      "outputs": [
        {
          "output_type": "stream",
          "text": [
            "Model: \"model_3\"\n",
            "__________________________________________________________________________________________________\n",
            "Layer (type)                    Output Shape         Param #     Connected to                     \n",
            "==================================================================================================\n",
            "Title (InputLayer)              (None, None)         0                                            \n",
            "__________________________________________________________________________________________________\n",
            "FullDescription (InputLayer)    (None, None)         0                                            \n",
            "__________________________________________________________________________________________________\n",
            "embedding_5 (Embedding)         (None, None, 64)     2186112     Title[0][0]                      \n",
            "__________________________________________________________________________________________________\n",
            "embedding_6 (Embedding)         (None, None, 64)     2186112     FullDescription[0][0]            \n",
            "__________________________________________________________________________________________________\n",
            "conv1d_9 (Conv1D)               (None, None, 128)    16512       embedding_5[0][0]                \n",
            "__________________________________________________________________________________________________\n",
            "conv1d_11 (Conv1D)              (None, None, 128)    16512       embedding_6[0][0]                \n",
            "__________________________________________________________________________________________________\n",
            "max_pooling1d_5 (MaxPooling1D)  (None, None, 128)    0           conv1d_9[0][0]                   \n",
            "__________________________________________________________________________________________________\n",
            "max_pooling1d_6 (MaxPooling1D)  (None, None, 128)    0           conv1d_11[0][0]                  \n",
            "__________________________________________________________________________________________________\n",
            "conv1d_10 (Conv1D)              (None, None, 128)    32896       max_pooling1d_5[0][0]            \n",
            "__________________________________________________________________________________________________\n",
            "conv1d_12 (Conv1D)              (None, None, 128)    32896       max_pooling1d_6[0][0]            \n",
            "__________________________________________________________________________________________________\n",
            "Categorical (InputLayer)        (None, 3767)         0                                            \n",
            "__________________________________________________________________________________________________\n",
            "global_max_pooling1d_5 (GlobalM (None, 128)          0           conv1d_10[0][0]                  \n",
            "__________________________________________________________________________________________________\n",
            "global_max_pooling1d_6 (GlobalM (None, 128)          0           conv1d_12[0][0]                  \n",
            "__________________________________________________________________________________________________\n",
            "dense_15 (Dense)                (None, 128)          482304      Categorical[0][0]                \n",
            "__________________________________________________________________________________________________\n",
            "dense_13 (Dense)                (None, 128)          16512       global_max_pooling1d_5[0][0]     \n",
            "__________________________________________________________________________________________________\n",
            "dense_14 (Dense)                (None, 128)          16512       global_max_pooling1d_6[0][0]     \n",
            "__________________________________________________________________________________________________\n",
            "dense_16 (Dense)                (None, 32)           4128        dense_15[0][0]                   \n",
            "__________________________________________________________________________________________________\n",
            "concatenate_3 (Concatenate)     (None, 288)          0           dense_13[0][0]                   \n",
            "                                                                 dense_14[0][0]                   \n",
            "                                                                 dense_16[0][0]                   \n",
            "__________________________________________________________________________________________________\n",
            "dense_17 (Dense)                (None, 128)          36992       concatenate_3[0][0]              \n",
            "__________________________________________________________________________________________________\n",
            "dense_18 (Dense)                (None, 1)            129         dense_17[0][0]                   \n",
            "==================================================================================================\n",
            "Total params: 5,027,617\n",
            "Trainable params: 5,027,617\n",
            "Non-trainable params: 0\n",
            "__________________________________________________________________________________________________\n"
          ],
          "name": "stdout"
        }
      ]
    },
    {
      "cell_type": "code",
      "metadata": {
        "id": "2J2h6A1HdE9V",
        "colab_type": "code",
        "colab": {}
      },
      "source": [
        "def iterate_minibatches(data, batch_size=256, shuffle=True, cycle=False, **kwargs):\n",
        "    \"\"\" iterates minibatches of data in random order \"\"\"\n",
        "    while True:\n",
        "        indices = np.arange(len(data))\n",
        "        if shuffle:\n",
        "            indices = np.random.permutation(indices)\n",
        "\n",
        "        for start in range(0, len(indices), batch_size):\n",
        "            batch = make_batch(data.iloc[indices[start : start + batch_size]], **kwargs)\n",
        "            target = batch.pop(target_column)\n",
        "            yield batch, target\n",
        "        \n",
        "        if not cycle: break"
      ],
      "execution_count": 0,
      "outputs": []
    },
    {
      "cell_type": "code",
      "metadata": {
        "id": "_HslgsgbdItB",
        "colab_type": "code",
        "outputId": "aeabfa9a-3891-4d16-f969-85f4154639d5",
        "colab": {
          "base_uri": "https://localhost:8080/",
          "height": 374
        }
      },
      "source": [
        "batch_size = 256\n",
        "epochs = 10            # definitely too small\n",
        "steps_per_epoch = 100  # for full pass over data: (len(data_train) - 1) // batch_size + 1\n",
        "\n",
        "model = build_model()\n",
        "\n",
        "model.fit_generator(iterate_minibatches(data_train, batch_size, cycle=True, word_dropout=0.05), \n",
        "                    epochs=epochs, steps_per_epoch=steps_per_epoch,\n",
        "                    \n",
        "                    validation_data=iterate_minibatches(data_val, batch_size, cycle=True),\n",
        "                    validation_steps=data_val.shape[0] // batch_size\n",
        "                   )"
      ],
      "execution_count": 29,
      "outputs": [
        {
          "output_type": "stream",
          "text": [
            "Epoch 1/10\n",
            "100/100 [==============================] - 191s 2s/step - loss: 10.1429 - mean_absolute_error: 1.7652 - val_loss: 0.1622 - val_mean_absolute_error: 0.3140\n",
            "Epoch 2/10\n",
            "100/100 [==============================] - 184s 2s/step - loss: 0.1356 - mean_absolute_error: 0.2838 - val_loss: 0.1147 - val_mean_absolute_error: 0.2588\n",
            "Epoch 3/10\n",
            "100/100 [==============================] - 185s 2s/step - loss: 0.1060 - mean_absolute_error: 0.2480 - val_loss: 0.1099 - val_mean_absolute_error: 0.2415\n",
            "Epoch 4/10\n",
            "100/100 [==============================] - 185s 2s/step - loss: 0.0948 - mean_absolute_error: 0.2331 - val_loss: 0.0910 - val_mean_absolute_error: 0.2279\n",
            "Epoch 5/10\n",
            "100/100 [==============================] - 180s 2s/step - loss: 0.0894 - mean_absolute_error: 0.2248 - val_loss: 0.0861 - val_mean_absolute_error: 0.2203\n",
            "Epoch 6/10\n",
            "100/100 [==============================] - 177s 2s/step - loss: 0.0867 - mean_absolute_error: 0.2211 - val_loss: 0.0824 - val_mean_absolute_error: 0.2148\n",
            "Epoch 7/10\n",
            "100/100 [==============================] - 181s 2s/step - loss: 0.0846 - mean_absolute_error: 0.2175 - val_loss: 0.0906 - val_mean_absolute_error: 0.2144\n",
            "Epoch 8/10\n",
            "100/100 [==============================] - 178s 2s/step - loss: 0.0794 - mean_absolute_error: 0.2096 - val_loss: 0.0763 - val_mean_absolute_error: 0.2066\n",
            "Epoch 9/10\n",
            "100/100 [==============================] - 182s 2s/step - loss: 0.0675 - mean_absolute_error: 0.1933 - val_loss: 0.0761 - val_mean_absolute_error: 0.2067\n",
            "Epoch 10/10\n",
            "100/100 [==============================] - 182s 2s/step - loss: 0.0664 - mean_absolute_error: 0.1931 - val_loss: 0.0778 - val_mean_absolute_error: 0.2106\n"
          ],
          "name": "stdout"
        },
        {
          "output_type": "execute_result",
          "data": {
            "text/plain": [
              "<keras.callbacks.History at 0x7fabb9ea8c18>"
            ]
          },
          "metadata": {
            "tags": []
          },
          "execution_count": 29
        }
      ]
    },
    {
      "cell_type": "code",
      "metadata": {
        "id": "PVjvRy9_jcj5",
        "colab_type": "code",
        "colab": {
          "base_uri": "https://localhost:8080/",
          "height": 119
        },
        "outputId": "061945f0-e287-4aca-f8c0-495c282d6a08"
      },
      "source": [
        "def print_metrics(model, data, batch_size=batch_size, name=\"\", **kw):\n",
        "    squared_error = abs_error = num_samples = 0.0\n",
        "    for batch_x, batch_y in iterate_minibatches(data, batch_size=batch_size, shuffle=False, **kw):\n",
        "        batch_pred = model.predict(batch_x)[:, 0]\n",
        "        squared_error += np.sum(np.square(batch_pred - batch_y))\n",
        "        abs_error += np.sum(np.abs(batch_pred - batch_y))\n",
        "        num_samples += len(batch_y)\n",
        "    print(\"%s results:\" % (name or \"\"))\n",
        "    print(\"Mean square error: %.5f\" % (squared_error / num_samples))\n",
        "    print(\"Mean absolute error: %.5f\" % (abs_error / num_samples))\n",
        "    return squared_error, abs_error\n",
        "    \n",
        "print_metrics(model, data_train, name='Train')\n",
        "print_metrics(model, data_val, name='Val');"
      ],
      "execution_count": 30,
      "outputs": [
        {
          "output_type": "stream",
          "text": [
            "Train results:\n",
            "Mean square error: 0.06333\n",
            "Mean absolute error: 0.18839\n",
            "Val results:\n",
            "Mean square error: 0.07769\n",
            "Mean absolute error: 0.21052\n"
          ],
          "name": "stdout"
        }
      ]
    },
    {
      "cell_type": "markdown",
      "metadata": {
        "id": "xVR6Dy6RQgqy",
        "colab_type": "text"
      },
      "source": [
        "### A short report\n",
        "\n",
        "Please tell us what you did and how did it work.\n",
        "\n",
        "A) CNN\n",
        "\n",
        "CNN with kernel size 2 and max over time pooling. "
      ]
    },
    {
      "cell_type": "markdown",
      "metadata": {
        "id": "LavNCS3yQgqz",
        "colab_type": "text"
      },
      "source": [
        "## Recommended options\n",
        "\n",
        "#### A) CNN architecture\n",
        "\n",
        "All the tricks you know about dense and convolutional neural networks apply here as well.\n",
        "* Dropout. Nuff said.\n",
        "* Batch Norm. This time it's `L.BatchNormalization`\n",
        "* Parallel convolution layers. The idea is that you apply several nn.Conv1d to the same embeddings and concatenate output channels.\n",
        "* More layers, more neurons, ya know...\n",
        "\n",
        "\n",
        "#### B) Play with pooling\n",
        "\n",
        "There's more than one way to perform pooling:\n",
        "* Max over time - our `L.GlobalMaxPool1D`\n",
        "* Average over time (excluding PAD)\n",
        "* Softmax-pooling:\n",
        "$$ out_{i, t} = \\sum_t {h_{i,t} \\cdot {{e ^ {h_{i, t}}} \\over \\sum_\\tau e ^ {h_{j, \\tau}} } }$$\n",
        "\n",
        "* Attentive pooling\n",
        "$$ out_{i, t} = \\sum_t {h_{i,t} \\cdot Attn(h_t)}$$\n",
        "\n",
        ", where $$ Attn(h_t) = {{e ^ {NN_{attn}(h_t)}} \\over \\sum_\\tau e ^ {NN_{attn}(h_\\tau)}}  $$\n",
        "and $NN_{attn}$ is a dense layer.\n",
        "\n",
        "The optimal score is usually achieved by concatenating several different poolings, including several attentive pooling with different $NN_{attn}$ (aka multi-headed attention).\n",
        "\n",
        "The catch is that keras layers do not inlude those toys. You will have to [write your own keras layer](https://keras.io/layers/writing-your-own-keras-layers/). Or use pure tensorflow, it might even be easier :)\n",
        "\n",
        "#### C) Fun with words\n",
        "\n",
        "It's not always a good idea to train embeddings from scratch. Here's a few tricks:\n",
        "\n",
        "* Use a pre-trained embeddings from `gensim.downloader.load`. See last lecture.\n",
        "* Start with pre-trained embeddings, then fine-tune them with gradient descent. You may or may not want to use __`.get_keras_embedding()`__ method for word2vec\n",
        "* Use the same embedding matrix in title and desc vectorizer\n",
        "\n",
        "\n",
        "#### D) Going recurrent\n",
        "\n",
        "We've already learned that recurrent networks can do cool stuff in sequence modelling. Turns out, they're not useless for classification as well. With some tricks of course..\n",
        "\n",
        "* Like convolutional layers, LSTM should be pooled into a fixed-size vector with some of the poolings.\n",
        "* Since you know all the text in advance, use bidirectional RNN\n",
        "  * Run one LSTM from left to right\n",
        "  * Run another in parallel from right to left \n",
        "  * Concatenate their output sequences along unit axis (dim=-1)\n",
        "\n",
        "* It might be good idea to mix convolutions and recurrent layers differently for title and description\n",
        "\n",
        "\n",
        "#### E) Optimizing seriously\n",
        "\n",
        "* You don't necessarily need 100 epochs. Use early stopping. If you've never done this before, take a look at [early stopping callback](https://keras.io/callbacks/#earlystopping).\n",
        "  * In short, train until you notice that validation\n",
        "  * Maintain the best-on-validation snapshot via `model.save(file_name)`\n",
        "  * Plotting learning curves is usually a good idea\n",
        "  \n",
        "Good luck! And may the force be with you!"
      ]
    }
  ]
}