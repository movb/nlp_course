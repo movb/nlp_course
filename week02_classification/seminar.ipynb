{
  "nbformat": 4,
  "nbformat_minor": 0,
  "metadata": {
    "kernelspec": {
      "display_name": "Python 3",
      "language": "python",
      "name": "python3"
    },
    "language_info": {
      "codemirror_mode": {
        "name": "ipython",
        "version": 3
      },
      "file_extension": ".py",
      "mimetype": "text/x-python",
      "name": "python",
      "nbconvert_exporter": "python",
      "pygments_lexer": "ipython3",
      "version": "3.5.2"
    },
    "colab": {
      "name": "seminar.ipynb",
      "provenance": []
    }
  },
  "cells": [
    {
      "cell_type": "markdown",
      "metadata": {
        "id": "K5RY_Kdhb9lO",
        "colab_type": "text"
      },
      "source": [
        "# Large scale text analysis with deep learning (3 points)\n",
        "\n",
        "Today we're gonna apply the newly learned tools for the task of predicting job salary.\n",
        "\n",
        "<img src=\"https://kaggle2.blob.core.windows.net/competitions/kaggle/3342/media/salary%20prediction%20engine%20v2.png\" width=400px>\n",
        "\n",
        "_Special thanks to [Oleg Vasilev](https://github.com/Omrigan/) for the core assignment idea._"
      ]
    },
    {
      "cell_type": "code",
      "metadata": {
        "id": "R8lI70EQb9lS",
        "colab_type": "code",
        "colab": {}
      },
      "source": [
        "import numpy as np\n",
        "import pandas as pd\n",
        "import matplotlib.pyplot as plt\n",
        "%matplotlib inline"
      ],
      "execution_count": 0,
      "outputs": []
    },
    {
      "cell_type": "markdown",
      "metadata": {
        "id": "2t1u90Mrb9lX",
        "colab_type": "text"
      },
      "source": [
        "### About the challenge\n",
        "For starters, let's download and unpack the data from [here](https://www.dropbox.com/s/5msc5ix7ndyba10/Train_rev1.csv.tar.gz?dl=0). \n",
        "\n",
        "You can also get it from [yadisk url](https://yadi.sk/d/vVEOWPFY3NruT7) the competition [page](https://www.kaggle.com/c/job-salary-prediction/data) (pick `Train_rev1.*`)."
      ]
    },
    {
      "cell_type": "code",
      "metadata": {
        "id": "XCDGgZgvb9lY",
        "colab_type": "code",
        "colab": {
          "base_uri": "https://localhost:8080/",
          "height": 136
        },
        "outputId": "96c5c661-9353-49da-950c-21dd91b6eb1c"
      },
      "source": [
        "!curl -L https://www.dropbox.com/s/5msc5ix7ndyba10/Train_rev1.csv.tar.gz?dl=1 -o Train_rev1.csv.tar.gz\n",
        "!tar -xvzf ./Train_rev1.csv.tar.gz\n",
        "data = pd.read_csv(\"./Train_rev1.csv\", index_col=None)\n",
        "data.shape"
      ],
      "execution_count": 2,
      "outputs": [
        {
          "output_type": "stream",
          "text": [
            "  % Total    % Received % Xferd  Average Speed   Time    Time     Time  Current\n",
            "                                 Dload  Upload   Total   Spent    Left  Speed\n",
            "\r  0     0    0     0    0     0      0      0 --:--:-- --:--:-- --:--:--     0\r  0     0    0     0    0     0      0      0 --:--:-- --:--:-- --:--:--     0\r  0     0    0     0    0     0      0      0 --:--:-- --:--:-- --:--:--     0\n",
            "  0     0    0     0    0     0      0      0 --:--:-- --:--:-- --:--:--     0\n",
            "100  119M  100  119M    0     0  5225k      0  0:00:23  0:00:23 --:--:-- 5734k\n",
            "Train_rev1.csv\n"
          ],
          "name": "stdout"
        },
        {
          "output_type": "execute_result",
          "data": {
            "text/plain": [
              "(244768, 12)"
            ]
          },
          "metadata": {
            "tags": []
          },
          "execution_count": 2
        }
      ]
    },
    {
      "cell_type": "markdown",
      "metadata": {
        "id": "J2tpw5eVb9ld",
        "colab_type": "text"
      },
      "source": [
        "One problem with salary prediction is that it's oddly distributed: there are many people who are paid standard salaries and a few that get tons o money. The distribution is fat-tailed on the right side, which is inconvenient for MSE minimization.\n",
        "\n",
        "There are several techniques to combat this: using a different loss function, predicting log-target instead of raw target or even replacing targets with their percentiles among all salaries in the training set. We gonna use logarithm for now.\n",
        "\n",
        "_You can read more [in the official description](https://www.kaggle.com/c/job-salary-prediction#description)._"
      ]
    },
    {
      "cell_type": "code",
      "metadata": {
        "id": "KgyXqQ24b9le",
        "colab_type": "code",
        "colab": {
          "base_uri": "https://localhost:8080/",
          "height": 269
        },
        "outputId": "3c589fa4-bced-4e2b-c185-8eff3aa8ec78"
      },
      "source": [
        "data['Log1pSalary'] = np.log1p(data['SalaryNormalized']).astype('float32')\n",
        "\n",
        "plt.figure(figsize=[8, 4])\n",
        "plt.subplot(1, 2, 1)\n",
        "plt.hist(data[\"SalaryNormalized\"], bins=20);\n",
        "\n",
        "plt.subplot(1, 2, 2)\n",
        "plt.hist(data['Log1pSalary'], bins=20);"
      ],
      "execution_count": 3,
      "outputs": [
        {
          "output_type": "display_data",
          "data": {
            "image/png": "[encoded data removed]",
            "text/plain": [
              "<Figure size 576x288 with 2 Axes>"
            ]
          },
          "metadata": {
            "tags": []
          }
        }
      ]
    },
    {
      "cell_type": "markdown",
      "metadata": {
        "id": "0TYdtvCKb9lg",
        "colab_type": "text"
      },
      "source": [
        "Our task is to predict one number, __Log1pSalary__.\n",
        "\n",
        "To do so, our model can access a number of features:\n",
        "* Free text: __`Title`__ and  __`FullDescription`__\n",
        "* Categorical: __`Category`__, __`Company`__, __`LocationNormalized`__, __`ContractType`__, and __`ContractTime`__."
      ]
    },
    {
      "cell_type": "code",
      "metadata": {
        "id": "qPwxpcg8b9li",
        "colab_type": "code",
        "colab": {
          "base_uri": "https://localhost:8080/",
          "height": 298
        },
        "outputId": "066a7d93-4225-4d0b-ff45-4751844f091d"
      },
      "source": [
        "text_columns = [\"Title\", \"FullDescription\"]\n",
        "categorical_columns = [\"Category\", \"Company\", \"LocationNormalized\", \"ContractType\", \"ContractTime\"]\n",
        "target_column = \"Log1pSalary\"\n",
        "\n",
        "data[categorical_columns] = data[categorical_columns].fillna('NaN') # cast missing values to string \"NaN\"\n",
        "\n",
        "data.sample(3)"
      ],
      "execution_count": 4,
      "outputs": [
        {
          "output_type": "execute_result",
          "data": {
            "text/html": [
              "<div>\n",
              "<style scoped>\n",
              "    .dataframe tbody tr th:only-of-type {\n",
              "        vertical-align: middle;\n",
              "    }\n",
              "\n",
              "    .dataframe tbody tr th {\n",
              "        vertical-align: top;\n",
              "    }\n",
              "\n",
              "    .dataframe thead th {\n",
              "        text-align: right;\n",
              "    }\n",
              "</style>\n",
              "<table border=\"1\" class=\"dataframe\">\n",
              "  <thead>\n",
              "    <tr style=\"text-align: right;\">\n",
              "      <th></th>\n",
              "      <th>Id</th>\n",
              "      <th>Title</th>\n",
              "      <th>FullDescription</th>\n",
              "      <th>LocationRaw</th>\n",
              "      <th>LocationNormalized</th>\n",
              "      <th>ContractType</th>\n",
              "      <th>ContractTime</th>\n",
              "      <th>Company</th>\n",
              "      <th>Category</th>\n",
              "      <th>SalaryRaw</th>\n",
              "      <th>SalaryNormalized</th>\n",
              "      <th>SourceName</th>\n",
              "      <th>Log1pSalary</th>\n",
              "    </tr>\n",
              "  </thead>\n",
              "  <tbody>\n",
              "    <tr>\n",
              "      <th>75561</th>\n",
              "      <td>69003634</td>\n",
              "      <td>**** Ton Franchise MultiDrop Drivers</td>\n",
              "      <td>**** Ton Franchise MultiDrop Drivers Urgently ...</td>\n",
              "      <td>Dunstable, Bedfordshire</td>\n",
              "      <td>Dunstable</td>\n",
              "      <td>NaN</td>\n",
              "      <td>permanent</td>\n",
              "      <td>Headstart Employment</td>\n",
              "      <td>Logistics &amp; Warehouse Jobs</td>\n",
              "      <td>33000/annum</td>\n",
              "      <td>33000</td>\n",
              "      <td>cv-library.co.uk</td>\n",
              "      <td>10.404293</td>\n",
              "    </tr>\n",
              "    <tr>\n",
              "      <th>161825</th>\n",
              "      <td>71196002</td>\n",
              "      <td>Project CoOrdinator  London</td>\n",
              "      <td>Project CoOrdinator Currently searching for a ...</td>\n",
              "      <td>London</td>\n",
              "      <td>London</td>\n",
              "      <td>NaN</td>\n",
              "      <td>permanent</td>\n",
              "      <td>Randstad</td>\n",
              "      <td>Engineering Jobs</td>\n",
              "      <td>0 - 60,000 per year</td>\n",
              "      <td>30000</td>\n",
              "      <td>rengineeringjobs.com</td>\n",
              "      <td>10.308986</td>\n",
              "    </tr>\n",
              "    <tr>\n",
              "      <th>134529</th>\n",
              "      <td>70253919</td>\n",
              "      <td>Team Leader  Learning Disabilities</td>\n",
              "      <td>Team Leader post  Learning disabilities Reside...</td>\n",
              "      <td>Birmingham West Midlands (County) West Midlands</td>\n",
              "      <td>UK</td>\n",
              "      <td>NaN</td>\n",
              "      <td>permanent</td>\n",
              "      <td>Coburg Banks Limited</td>\n",
              "      <td>Healthcare &amp; Nursing Jobs</td>\n",
              "      <td>12000 - 13000 per annum</td>\n",
              "      <td>12500</td>\n",
              "      <td>totaljobs.com</td>\n",
              "      <td>9.433564</td>\n",
              "    </tr>\n",
              "  </tbody>\n",
              "</table>\n",
              "</div>"
            ],
            "text/plain": [
              "              Id  ... Log1pSalary\n",
              "75561   69003634  ...   10.404293\n",
              "161825  71196002  ...   10.308986\n",
              "134529  70253919  ...    9.433564\n",
              "\n",
              "[3 rows x 13 columns]"
            ]
          },
          "metadata": {
            "tags": []
          },
          "execution_count": 4
        }
      ]
    },
    {
      "cell_type": "markdown",
      "metadata": {
        "id": "FX9u2Xurb9ll",
        "colab_type": "text"
      },
      "source": [
        "### Preprocessing text data\n",
        "\n",
        "Just like last week, applying NLP to a problem begins from tokenization: splitting raw text into sequences of tokens (words, punctuation, etc).\n",
        "\n",
        "__Your task__ is to lowercase and tokenize all texts under `Title` and `FullDescription` columns. Store the tokenized data as a __space-separated__ string of tokens for performance reasons.\n",
        "\n",
        "It's okay to use nltk tokenizers. Assertions were designed for WordPunctTokenizer, slight deviations are okay."
      ]
    },
    {
      "cell_type": "code",
      "metadata": {
        "id": "TaIZ-q5zb9lm",
        "colab_type": "code",
        "colab": {
          "base_uri": "https://localhost:8080/",
          "height": 102
        },
        "outputId": "519bf167-9324-431d-a870-7ea8e68cff19"
      },
      "source": [
        "print(\"Raw text:\")\n",
        "print(data[\"FullDescription\"][2::100000])"
      ],
      "execution_count": 5,
      "outputs": [
        {
          "output_type": "stream",
          "text": [
            "Raw text:\n",
            "2         Mathematical Modeller / Simulation Analyst / O...\n",
            "100002    A successful and high achieving specialist sch...\n",
            "200002    Web Designer  HTML, CSS, JavaScript, Photoshop...\n",
            "Name: FullDescription, dtype: object\n"
          ],
          "name": "stdout"
        }
      ]
    },
    {
      "cell_type": "code",
      "metadata": {
        "id": "OiBvbUiub9lp",
        "colab_type": "code",
        "colab": {}
      },
      "source": [
        "import nltk\n",
        "tokenizer = nltk.tokenize.WordPunctTokenizer()\n",
        "\n",
        "def tokenize(text):\n",
        "    return \" \".join(tokenizer.tokenize(str(text).lower()))\n",
        "# see task above\n",
        "data[\"Title\"] = data[\"Title\"].apply(tokenize)\n",
        "data[\"FullDescription\"] = data[\"FullDescription\"].apply(tokenize)"
      ],
      "execution_count": 0,
      "outputs": []
    },
    {
      "cell_type": "markdown",
      "metadata": {
        "id": "NBa6wRq_b9ls",
        "colab_type": "text"
      },
      "source": [
        "Now we can assume that our text is a space-separated list of tokens:"
      ]
    },
    {
      "cell_type": "code",
      "metadata": {
        "id": "FEz9p_PPb9lt",
        "colab_type": "code",
        "colab": {
          "base_uri": "https://localhost:8080/",
          "height": 102
        },
        "outputId": "55f8bbe5-ea2b-4873-a489-7bd9af4add4b"
      },
      "source": [
        "print(\"Tokenized:\")\n",
        "print(data[\"FullDescription\"][2::100000])\n",
        "assert data[\"FullDescription\"][2][:50] == 'mathematical modeller / simulation analyst / opera'\n",
        "assert data[\"Title\"][54321] == 'international digital account manager ( german )'"
      ],
      "execution_count": 7,
      "outputs": [
        {
          "output_type": "stream",
          "text": [
            "Tokenized:\n",
            "2         mathematical modeller / simulation analyst / o...\n",
            "100002    a successful and high achieving specialist sch...\n",
            "200002    web designer html , css , javascript , photosh...\n",
            "Name: FullDescription, dtype: object\n"
          ],
          "name": "stdout"
        }
      ]
    },
    {
      "cell_type": "markdown",
      "metadata": {
        "id": "Dkj99sJhb9lw",
        "colab_type": "text"
      },
      "source": [
        "Not all words are equally useful. Some of them are typos or rare words that are only present a few times. \n",
        "\n",
        "Let's count how many times is each word present in the data so that we can build a \"white list\" of known words."
      ]
    },
    {
      "cell_type": "code",
      "metadata": {
        "id": "Ib3E2rIgb9lx",
        "colab_type": "code",
        "colab": {}
      },
      "source": [
        "# Count how many times does each token occur in both \"Title\" and \"FullDescription\" in total\n",
        "# build a dictionary { token -> it's count }\n",
        "from collections import Counter\n",
        "token_counts = Counter(token for col in text_columns\n",
        "                             for text in data[col]\n",
        "                             for token in text.split())\n",
        "\n",
        "# hint: you may or may not want to use collections.Counter"
      ],
      "execution_count": 0,
      "outputs": []
    },
    {
      "cell_type": "code",
      "metadata": {
        "id": "klnAp_XMb9l1",
        "colab_type": "code",
        "colab": {
          "base_uri": "https://localhost:8080/",
          "height": 204
        },
        "outputId": "92d7445b-9f4b-4544-dc22-744a53fb6fac"
      },
      "source": [
        "print(\"Total unique tokens :\", len(token_counts))\n",
        "print('\\n'.join(map(str, token_counts.most_common(n=5))))\n",
        "print('...')\n",
        "print('\\n'.join(map(str, token_counts.most_common()[-3:])))\n",
        "\n",
        "assert token_counts.most_common(1)[0][1] in  range(2600000, 2700000)\n",
        "assert len(token_counts) in range(200000, 210000)\n",
        "print('Correct!')"
      ],
      "execution_count": 9,
      "outputs": [
        {
          "output_type": "stream",
          "text": [
            "Total unique tokens : 202704\n",
            "('and', 2657388)\n",
            "('.', 2523216)\n",
            "(',', 2318606)\n",
            "('the', 2080994)\n",
            "('to', 2019884)\n",
            "...\n",
            "('stephanietraveltraderecruitmnt', 1)\n",
            "('ruabon', 1)\n",
            "('lowehays', 1)\n",
            "Correct!\n"
          ],
          "name": "stdout"
        }
      ]
    },
    {
      "cell_type": "code",
      "metadata": {
        "id": "vskllKLfb9l3",
        "colab_type": "code",
        "colab": {
          "base_uri": "https://localhost:8080/",
          "height": 283
        },
        "outputId": "86d27de3-f19b-452e-e398-d5ac91e0ee1e"
      },
      "source": [
        "# Let's see how many words are there for each count\n",
        "plt.hist(list(token_counts.values()), range=[0, 10**4], bins=50, log=True)\n",
        "plt.xlabel(\"Word counts\");"
      ],
      "execution_count": 10,
      "outputs": [
        {
          "output_type": "display_data",
          "data": {
            "image/png": "[encoded data removed]",
            "text/plain": [
              "<Figure size 432x288 with 1 Axes>"
            ]
          },
          "metadata": {
            "tags": []
          }
        }
      ]
    },
    {
      "cell_type": "markdown",
      "metadata": {
        "id": "Uw1iCqttb9l7",
        "colab_type": "text"
      },
      "source": [
        "Now filter tokens a list of all tokens that occur at least 10 times."
      ]
    },
    {
      "cell_type": "code",
      "metadata": {
        "id": "I1Loqvk8b9l8",
        "colab_type": "code",
        "colab": {}
      },
      "source": [
        "min_count = 10\n",
        "\n",
        "# tokens from token_counts keys that had at least min_count occurrences throughout the dataset\n",
        "tokens = [token for token,count in token_counts.items() if count >= min_count]"
      ],
      "execution_count": 0,
      "outputs": []
    },
    {
      "cell_type": "code",
      "metadata": {
        "id": "0MAm1l5Zb9l_",
        "colab_type": "code",
        "colab": {
          "base_uri": "https://localhost:8080/",
          "height": 51
        },
        "outputId": "c9cfe4ee-6f21-45f7-f827-fefb157e010a"
      },
      "source": [
        "# Add a special tokens for unknown and empty words\n",
        "UNK, PAD = \"UNK\", \"PAD\"\n",
        "tokens = [UNK, PAD] + sorted(tokens)\n",
        "print(\"Vocabulary size:\", len(tokens))\n",
        "\n",
        "assert type(tokens) == list\n",
        "assert len(tokens) in range(30000, 40000)\n",
        "assert 'me' in tokens\n",
        "assert UNK in tokens\n",
        "print(\"Correct!\")"
      ],
      "execution_count": 12,
      "outputs": [
        {
          "output_type": "stream",
          "text": [
            "Vocabulary size: 34158\n",
            "Correct!\n"
          ],
          "name": "stdout"
        }
      ]
    },
    {
      "cell_type": "markdown",
      "metadata": {
        "id": "pN7vYiPob9mC",
        "colab_type": "text"
      },
      "source": [
        "Build an inverse token index: a dictionary from token(string) to it's index in `tokens` (int)"
      ]
    },
    {
      "cell_type": "code",
      "metadata": {
        "id": "BagOScqnb9mD",
        "colab_type": "code",
        "colab": {}
      },
      "source": [
        "token_to_id = {item:num for num,item in enumerate(tokens)}"
      ],
      "execution_count": 0,
      "outputs": []
    },
    {
      "cell_type": "code",
      "metadata": {
        "id": "_xNgPBr0b9mH",
        "colab_type": "code",
        "colab": {
          "base_uri": "https://localhost:8080/",
          "height": 34
        },
        "outputId": "f739dd52-108c-493c-db83-e656b7dfa813"
      },
      "source": [
        "assert isinstance(token_to_id, dict)\n",
        "assert len(token_to_id) == len(tokens)\n",
        "for tok in tokens:\n",
        "    assert tokens[token_to_id[tok]] == tok\n",
        "\n",
        "print(\"Correct!\")"
      ],
      "execution_count": 14,
      "outputs": [
        {
          "output_type": "stream",
          "text": [
            "Correct!\n"
          ],
          "name": "stdout"
        }
      ]
    },
    {
      "cell_type": "markdown",
      "metadata": {
        "id": "xlG4FkV9b9mK",
        "colab_type": "text"
      },
      "source": [
        "And finally, let's use the vocabulary you've built to map text lines into neural network-digestible matrices."
      ]
    },
    {
      "cell_type": "code",
      "metadata": {
        "id": "OG7IFRSOb9mK",
        "colab_type": "code",
        "colab": {}
      },
      "source": [
        "UNK_IX, PAD_IX = map(token_to_id.get, [UNK, PAD])\n",
        "\n",
        "def as_matrix(sequences, max_len=None):\n",
        "    \"\"\" Convert a list of tokens into a matrix with padding \"\"\"\n",
        "    if isinstance(sequences[0], str):\n",
        "        sequences = list(map(str.split, sequences))\n",
        "        \n",
        "    max_len = min(max(map(len, sequences)), max_len or float('inf'))\n",
        "    \n",
        "    matrix = np.full((len(sequences), max_len), np.int32(PAD_IX))\n",
        "    for i,seq in enumerate(sequences):\n",
        "        row_ix = [token_to_id.get(word, UNK_IX) for word in seq[:max_len]]\n",
        "        matrix[i, :len(row_ix)] = row_ix\n",
        "    \n",
        "    return matrix"
      ],
      "execution_count": 0,
      "outputs": []
    },
    {
      "cell_type": "code",
      "metadata": {
        "id": "NXRv0VsGb9mN",
        "colab_type": "code",
        "colab": {
          "base_uri": "https://localhost:8080/",
          "height": 170
        },
        "outputId": "b613dd57-e9ce-4d3b-f600-d01e53912535"
      },
      "source": [
        "print(\"Lines:\")\n",
        "print('\\n'.join(data[\"Title\"][::100000].values), end='\\n\\n')\n",
        "print(\"Matrix:\")\n",
        "print(as_matrix(data[\"Title\"][::100000]))"
      ],
      "execution_count": 16,
      "outputs": [
        {
          "output_type": "stream",
          "text": [
            "Lines:\n",
            "engineering systems analyst\n",
            "hr assistant\n",
            "senior ec & i engineer\n",
            "\n",
            "Matrix:\n",
            "[[10807 30161  2166     1     1]\n",
            " [15020  2844     1     1     1]\n",
            " [27645 10201    16 15215 10804]]\n"
          ],
          "name": "stdout"
        }
      ]
    },
    {
      "cell_type": "markdown",
      "metadata": {
        "id": "GcR-W-ysb9mQ",
        "colab_type": "text"
      },
      "source": [
        "Now let's  encode the categirical data we have.\n",
        "\n",
        "As usual, we shall use one-hot encoding for simplicity. Kudos if you implement more advanced encodings: tf-idf, pseudo-time-series, etc."
      ]
    },
    {
      "cell_type": "code",
      "metadata": {
        "id": "iWmj0_EVb9mQ",
        "colab_type": "code",
        "colab": {
          "base_uri": "https://localhost:8080/",
          "height": 51
        },
        "outputId": "7b89497e-2022-4855-e331-05521a624b2b"
      },
      "source": [
        "from sklearn.feature_extraction import DictVectorizer\n",
        "\n",
        "# we only consider top-1k most frequent companies to minimize memory usage\n",
        "top_companies, top_counts = zip(*Counter(data['Company']).most_common(1000))\n",
        "recognized_companies = set(top_companies)\n",
        "data[\"Company\"] = data[\"Company\"].apply(lambda comp: comp if comp in recognized_companies else \"Other\")\n",
        "\n",
        "categorical_vectorizer = DictVectorizer(dtype=np.float32, sparse=False)\n",
        "categorical_vectorizer.fit(data[categorical_columns].apply(dict, axis=1))"
      ],
      "execution_count": 17,
      "outputs": [
        {
          "output_type": "execute_result",
          "data": {
            "text/plain": [
              "DictVectorizer(dtype=<class 'numpy.float32'>, separator='=', sort=True,\n",
              "               sparse=False)"
            ]
          },
          "metadata": {
            "tags": []
          },
          "execution_count": 17
        }
      ]
    },
    {
      "cell_type": "markdown",
      "metadata": {
        "id": "A4bDRxi7b9mV",
        "colab_type": "text"
      },
      "source": [
        "### The deep learning part\n",
        "\n",
        "Once we've learned to tokenize the data, let's design a machine learning experiment.\n",
        "\n",
        "As before, we won't focus too much on validation, opting for a simple train-test split.\n",
        "\n",
        "__To be completely rigorous,__ we've comitted a small crime here: we used the whole data for tokenization and vocabulary building. A more strict way would be to do that part on training set only. You may want to do that and measure the magnitude of changes."
      ]
    },
    {
      "cell_type": "code",
      "metadata": {
        "id": "DPd0_VYcb9mW",
        "colab_type": "code",
        "colab": {
          "base_uri": "https://localhost:8080/",
          "height": 51
        },
        "outputId": "7bb76374-688f-4ef5-aab9-7e8de1dd1320"
      },
      "source": [
        "from sklearn.model_selection import train_test_split\n",
        "\n",
        "data_train, data_val = train_test_split(data, test_size=0.2, random_state=42)\n",
        "data_train.index = range(len(data_train))\n",
        "data_val.index = range(len(data_val))\n",
        "\n",
        "print(\"Train size = \", len(data_train))\n",
        "print(\"Validation size = \", len(data_val))"
      ],
      "execution_count": 18,
      "outputs": [
        {
          "output_type": "stream",
          "text": [
            "Train size =  195814\n",
            "Validation size =  48954\n"
          ],
          "name": "stdout"
        }
      ]
    },
    {
      "cell_type": "code",
      "metadata": {
        "id": "YM2ysiH0b9mc",
        "colab_type": "code",
        "colab": {}
      },
      "source": [
        "def make_batch(data, max_len=None, word_dropout=0):\n",
        "    \"\"\"\n",
        "    Creates a keras-friendly dict from the batch data.\n",
        "    :param word_dropout: replaces token index with UNK_IX with this probability\n",
        "    :returns: a dict with {'title' : int64[batch, title_max_len]\n",
        "    \"\"\"\n",
        "    batch = {}\n",
        "    batch[\"Title\"] = as_matrix(data[\"Title\"].values, max_len)\n",
        "    batch[\"FullDescription\"] = as_matrix(data[\"FullDescription\"].values, max_len)\n",
        "    batch['Categorical'] = categorical_vectorizer.transform(data[categorical_columns].apply(dict, axis=1))\n",
        "    \n",
        "    if word_dropout != 0:\n",
        "        batch[\"FullDescription\"] = apply_word_dropout(batch[\"FullDescription\"], 1. - word_dropout)\n",
        "    \n",
        "    if target_column in data.columns:\n",
        "        batch[target_column] = data[target_column].values\n",
        "    \n",
        "    return batch\n",
        "\n",
        "def apply_word_dropout(matrix, keep_prop, replace_with=UNK_IX, pad_ix=PAD_IX,):\n",
        "    dropout_mask = np.random.choice(2, np.shape(matrix), p=[keep_prop, 1 - keep_prop])\n",
        "    dropout_mask &= matrix != pad_ix\n",
        "    return np.choose(dropout_mask, [matrix, np.full_like(matrix, replace_with)])"
      ],
      "execution_count": 0,
      "outputs": []
    },
    {
      "cell_type": "code",
      "metadata": {
        "id": "N9cu150vb9mf",
        "colab_type": "code",
        "colab": {
          "base_uri": "https://localhost:8080/",
          "height": 238
        },
        "outputId": "5ac5e6e7-6ec4-4271-d09a-0b8bb9116eac"
      },
      "source": [
        "make_batch(data_train[:3], max_len=10)"
      ],
      "execution_count": 20,
      "outputs": [
        {
          "output_type": "execute_result",
          "data": {
            "text/plain": [
              "{'Categorical': array([[0., 0., 0., ..., 0., 0., 0.],\n",
              "        [0., 0., 0., ..., 0., 0., 0.],\n",
              "        [0., 0., 0., ..., 0., 0., 0.]], dtype=float32),\n",
              " 'FullDescription': array([[27645, 29893, 33674, 32939,   982, 27645, 29893, 33674, 16451,\n",
              "         32939],\n",
              "        [29239,   197, 19175, 20042, 15554, 23162,  4051, 25511,   907,\n",
              "            82],\n",
              "        [30746, 21956, 20601,  6409, 16451,  8165, 27493,   982, 30412,\n",
              "         17746]], dtype=int32),\n",
              " 'Log1pSalary': array([ 9.71154 , 10.463132, 10.71444 ], dtype=float32),\n",
              " 'Title': array([[27645, 29893, 33674,     1,     1,     1,     1],\n",
              "        [29239,   197, 19175, 20042, 15554, 23162,  4051],\n",
              "        [10609, 30412, 17746,    33,  8705, 29157,    65]], dtype=int32)}"
            ]
          },
          "metadata": {
            "tags": []
          },
          "execution_count": 20
        }
      ]
    },
    {
      "cell_type": "markdown",
      "metadata": {
        "id": "-anjlkJUb9mi",
        "colab_type": "text"
      },
      "source": [
        "#### Architecture\n",
        "\n",
        "Our basic model consists of three branches:\n",
        "* Title encoder\n",
        "* Description encoder\n",
        "* Categorical features encoder\n",
        "\n",
        "We will then feed all 3 branches into one common network that predicts salary.\n",
        "\n",
        "<img src=\"https://github.com/yandexdataschool/nlp_course/raw/master/resources/w2_conv_arch.png\" width=600px>"
      ]
    },
    {
      "cell_type": "markdown",
      "metadata": {
        "id": "dyaB-_E7b9mi",
        "colab_type": "text"
      },
      "source": [
        "This clearly doesn't fit into keras' __Sequential__ interface. To build such a network, one will have to use __[Keras Functional API](https://keras.io/models/model/)__."
      ]
    },
    {
      "cell_type": "code",
      "metadata": {
        "id": "MH2yiYr3b9mj",
        "colab_type": "code",
        "colab": {
          "base_uri": "https://localhost:8080/",
          "height": 34
        },
        "outputId": "ff3a762b-8cb6-4106-d2ed-0200850d6d56"
      },
      "source": [
        "import keras\n",
        "import keras.layers as L"
      ],
      "execution_count": 21,
      "outputs": [
        {
          "output_type": "stream",
          "text": [
            "Using TensorFlow backend.\n"
          ],
          "name": "stderr"
        }
      ]
    },
    {
      "cell_type": "code",
      "metadata": {
        "id": "y3LwTVZZb9mn",
        "colab_type": "code",
        "colab": {}
      },
      "source": [
        "def build_model(n_tokens=len(tokens), n_cat_features=len(categorical_vectorizer.vocabulary_), hid_size=64):\n",
        "    \"\"\" Build a model that maps three data sources to a single linear output: predicted log1p(salary) \"\"\"\n",
        "    \n",
        "    l_title = L.Input(shape=[None], name=\"Title\")\n",
        "    l_descr = L.Input(shape=[None], name=\"FullDescription\")\n",
        "    l_categ = L.Input(shape=[n_cat_features], name=\"Categorical\")\n",
        "    \n",
        "    # Build your monster!\n",
        "    \n",
        "    l_title_emb = L.Embedding(len(tokens), 64)(l_title)\n",
        "    l_title_emb = L.Conv1D(128, 1, activation='relu')(l_title_emb)\n",
        "    l_title_emb = L.MaxPooling1D(5)(l_title_emb)\n",
        "    l_title_emb = L.Conv1D(128, 1, activation='relu')(l_title_emb)\n",
        "    #l_title_emb = L.MaxPooling1D(5)(l_title_emb)\n",
        "    #l_title_emb = L.Conv1D(128, 5, activation='relu')(l_title_emb)\n",
        "    l_title_emb = L.GlobalMaxPool1D()(l_title_emb)\n",
        "    #l_title_emb = L.Flatten()(l_title_emb)\n",
        "    l_title_emb = L.Dense(128, activation='relu')(l_title_emb)\n",
        "    \n",
        "    l_descr_emb = L.Embedding(len(tokens), 64)(l_descr)\n",
        "    l_descr_emb = L.Conv1D(128, 1, activation='relu')(l_descr_emb)\n",
        "    l_descr_emb = L.MaxPooling1D(5)(l_descr_emb)\n",
        "    l_descr_emb = L.Conv1D(128, 1, activation='relu')(l_descr_emb)\n",
        "    #l_title_emb = L.MaxPooling1D(5)(l_title_emb)\n",
        "    #l_title_emb = L.Conv1D(128, 5, activation='relu')(l_title_emb)\n",
        "    l_descr_emb = L.GlobalMaxPool1D()(l_descr_emb)\n",
        "    #l_descr_emb = L.Flatten()(l_descr_emb)\n",
        "    l_descr_emb = L.Dense(128, activation='relu')(l_descr_emb)\n",
        "    \n",
        "    l_cat_emb = L.Dense(128)(l_categ)\n",
        "    l_cat_emb = L.Dense(32)(l_cat_emb)\n",
        "    \n",
        "    output_layer = L.Concatenate()([l_title_emb, l_descr_emb, l_cat_emb])\n",
        "    output_layer = L.Dense(128)(output_layer)\n",
        "    output_layer = L.Dense(1)(output_layer)\n",
        "    # end of your code\n",
        "    \n",
        "    model = keras.models.Model(inputs=[l_title, l_descr, l_categ], outputs=[output_layer])\n",
        "    model.compile('adam', 'mean_squared_error', metrics=['mean_absolute_error'])\n",
        "    return model\n",
        "    "
      ],
      "execution_count": 0,
      "outputs": []
    },
    {
      "cell_type": "code",
      "metadata": {
        "id": "B4uwVYMmb9ms",
        "colab_type": "code",
        "colab": {
          "base_uri": "https://localhost:8080/",
          "height": 867
        },
        "outputId": "122071d2-39d8-4f5d-82bf-2c81e9141b42"
      },
      "source": [
        "model = build_model()\n",
        "model.summary()\n",
        "\n",
        "dummy_pred = model.predict(make_batch(data_train[:100]))\n",
        "dummy_loss = model.train_on_batch(make_batch(data_train[:100]), data_train['Log1pSalary'][:100])[0]\n",
        "assert dummy_pred.shape == (100, 1)\n",
        "assert len(np.unique(dummy_pred)) > 20, \"model returns suspiciously few unique outputs. Check your initialization\"\n",
        "assert np.ndim(dummy_loss) == 0 and 0. <= dummy_loss <= 250., \"make sure you minimize MSE\""
      ],
      "execution_count": 29,
      "outputs": [
        {
          "output_type": "stream",
          "text": [
            "Model: \"model_4\"\n",
            "__________________________________________________________________________________________________\n",
            "Layer (type)                    Output Shape         Param #     Connected to                     \n",
            "==================================================================================================\n",
            "Title (InputLayer)              (None, None)         0                                            \n",
            "__________________________________________________________________________________________________\n",
            "FullDescription (InputLayer)    (None, None)         0                                            \n",
            "__________________________________________________________________________________________________\n",
            "embedding_7 (Embedding)         (None, None, 64)     2186112     Title[0][0]                      \n",
            "__________________________________________________________________________________________________\n",
            "embedding_8 (Embedding)         (None, None, 64)     2186112     FullDescription[0][0]            \n",
            "__________________________________________________________________________________________________\n",
            "conv1d_13 (Conv1D)              (None, None, 128)    8320        embedding_7[0][0]                \n",
            "__________________________________________________________________________________________________\n",
            "conv1d_15 (Conv1D)              (None, None, 128)    8320        embedding_8[0][0]                \n",
            "__________________________________________________________________________________________________\n",
            "max_pooling1d_7 (MaxPooling1D)  (None, None, 128)    0           conv1d_13[0][0]                  \n",
            "__________________________________________________________________________________________________\n",
            "max_pooling1d_8 (MaxPooling1D)  (None, None, 128)    0           conv1d_15[0][0]                  \n",
            "__________________________________________________________________________________________________\n",
            "conv1d_14 (Conv1D)              (None, None, 128)    16512       max_pooling1d_7[0][0]            \n",
            "__________________________________________________________________________________________________\n",
            "conv1d_16 (Conv1D)              (None, None, 128)    16512       max_pooling1d_8[0][0]            \n",
            "__________________________________________________________________________________________________\n",
            "Categorical (InputLayer)        (None, 3768)         0                                            \n",
            "__________________________________________________________________________________________________\n",
            "global_max_pooling1d_7 (GlobalM (None, 128)          0           conv1d_14[0][0]                  \n",
            "__________________________________________________________________________________________________\n",
            "global_max_pooling1d_8 (GlobalM (None, 128)          0           conv1d_16[0][0]                  \n",
            "__________________________________________________________________________________________________\n",
            "dense_21 (Dense)                (None, 128)          482432      Categorical[0][0]                \n",
            "__________________________________________________________________________________________________\n",
            "dense_19 (Dense)                (None, 128)          16512       global_max_pooling1d_7[0][0]     \n",
            "__________________________________________________________________________________________________\n",
            "dense_20 (Dense)                (None, 128)          16512       global_max_pooling1d_8[0][0]     \n",
            "__________________________________________________________________________________________________\n",
            "dense_22 (Dense)                (None, 32)           4128        dense_21[0][0]                   \n",
            "__________________________________________________________________________________________________\n",
            "concatenate_4 (Concatenate)     (None, 288)          0           dense_19[0][0]                   \n",
            "                                                                 dense_20[0][0]                   \n",
            "                                                                 dense_22[0][0]                   \n",
            "__________________________________________________________________________________________________\n",
            "dense_23 (Dense)                (None, 128)          36992       concatenate_4[0][0]              \n",
            "__________________________________________________________________________________________________\n",
            "dense_24 (Dense)                (None, 1)            129         dense_23[0][0]                   \n",
            "==================================================================================================\n",
            "Total params: 4,978,593\n",
            "Trainable params: 4,978,593\n",
            "Non-trainable params: 0\n",
            "__________________________________________________________________________________________________\n"
          ],
          "name": "stdout"
        }
      ]
    },
    {
      "cell_type": "markdown",
      "metadata": {
        "id": "1Pm-8tJ3b9mx",
        "colab_type": "text"
      },
      "source": [
        "#### Training and evaluation\n",
        "\n",
        "As usual, we gonna feed our monster with random minibatches of data. \n",
        "\n",
        "As we train, we want to monitor not only loss function, which is computed in log-space, but also the actual error measured in dollars."
      ]
    },
    {
      "cell_type": "code",
      "metadata": {
        "id": "w__GlRISb9mx",
        "colab_type": "code",
        "colab": {}
      },
      "source": [
        "def iterate_minibatches(data, batch_size=256, shuffle=True, cycle=False, **kwargs):\n",
        "    \"\"\" iterates minibatches of data in random order \"\"\"\n",
        "    while True:\n",
        "        indices = np.arange(len(data))\n",
        "        if shuffle:\n",
        "            indices = np.random.permutation(indices)\n",
        "\n",
        "        for start in range(0, len(indices), batch_size):\n",
        "            batch = make_batch(data.iloc[indices[start : start + batch_size]], **kwargs)\n",
        "            target = batch.pop(target_column)\n",
        "            yield batch, target\n",
        "        \n",
        "        if not cycle: break"
      ],
      "execution_count": 0,
      "outputs": []
    },
    {
      "cell_type": "markdown",
      "metadata": {
        "id": "4QLwyM9ab9m0",
        "colab_type": "text"
      },
      "source": [
        "### Model training\n",
        "\n",
        "We can now fit our model the usual minibatch way. The interesting part is that we train on an infinite stream of minibatches, produced by `iterate_minibatches` function."
      ]
    },
    {
      "cell_type": "code",
      "metadata": {
        "id": "VecCKQp1b9m1",
        "colab_type": "code",
        "colab": {
          "base_uri": "https://localhost:8080/",
          "height": 394
        },
        "outputId": "4f10559b-260b-44c9-eeda-aa573d0a04d8"
      },
      "source": [
        "batch_size = 256\n",
        "epochs = 10            # definitely too small\n",
        "steps_per_epoch = 100  # for full pass over data: (len(data_train) - 1) // batch_size + 1\n",
        "\n",
        "model = build_model()\n",
        "\n",
        "model.fit_generator(iterate_minibatches(data_train, batch_size, cycle=True, word_dropout=0.05), \n",
        "                    epochs=epochs, steps_per_epoch=steps_per_epoch,\n",
        "                    \n",
        "                    validation_data=iterate_minibatches(data_val, batch_size, cycle=True),\n",
        "                    validation_steps=data_val.shape[0] // batch_size\n",
        "                   )"
      ],
      "execution_count": 31,
      "outputs": [
        {
          "output_type": "stream",
          "text": [
            "Epoch 1/10\n",
            "100/100 [==============================] - 142s 1s/step - loss: 10.3843 - mean_absolute_error: 1.8017 - val_loss: 0.1745 - val_mean_absolute_error: 0.3274\n",
            "Epoch 2/10\n",
            "100/100 [==============================] - 134s 1s/step - loss: 0.1444 - mean_absolute_error: 0.2928 - val_loss: 0.1185 - val_mean_absolute_error: 0.2635\n",
            "Epoch 3/10\n",
            "100/100 [==============================] - 135s 1s/step - loss: 0.1129 - mean_absolute_error: 0.2551 - val_loss: 0.1027 - val_mean_absolute_error: 0.2437\n",
            "Epoch 4/10\n",
            "100/100 [==============================] - 141s 1s/step - loss: 0.1014 - mean_absolute_error: 0.2404 - val_loss: 0.0952 - val_mean_absolute_error: 0.2333\n",
            "Epoch 5/10\n",
            "100/100 [==============================] - 139s 1s/step - loss: 0.0941 - mean_absolute_error: 0.2314 - val_loss: 0.0899 - val_mean_absolute_error: 0.2266\n",
            "Epoch 6/10\n",
            "100/100 [==============================] - 133s 1s/step - loss: 0.0916 - mean_absolute_error: 0.2289 - val_loss: 0.0866 - val_mean_absolute_error: 0.2214\n",
            "Epoch 7/10\n",
            "100/100 [==============================] - 136s 1s/step - loss: 0.0875 - mean_absolute_error: 0.2228 - val_loss: 0.0827 - val_mean_absolute_error: 0.2156\n",
            "Epoch 8/10\n",
            "100/100 [==============================] - 133s 1s/step - loss: 0.0809 - mean_absolute_error: 0.2135 - val_loss: 0.0806 - val_mean_absolute_error: 0.2124\n",
            "Epoch 9/10\n",
            "100/100 [==============================] - 139s 1s/step - loss: 0.0732 - mean_absolute_error: 0.2022 - val_loss: 0.0786 - val_mean_absolute_error: 0.2100\n",
            "Epoch 10/10\n",
            "100/100 [==============================] - 140s 1s/step - loss: 0.0745 - mean_absolute_error: 0.2046 - val_loss: 0.0820 - val_mean_absolute_error: 0.2151\n"
          ],
          "name": "stdout"
        },
        {
          "output_type": "execute_result",
          "data": {
            "text/plain": [
              "<keras.callbacks.History at 0x7f0fe31f0748>"
            ]
          },
          "metadata": {
            "tags": []
          },
          "execution_count": 31
        }
      ]
    },
    {
      "cell_type": "code",
      "metadata": {
        "id": "JcJDi6OVb9m3",
        "colab_type": "code",
        "colab": {
          "base_uri": "https://localhost:8080/",
          "height": 119
        },
        "outputId": "42a27202-df17-45d0-b313-e7319e691f23"
      },
      "source": [
        "def print_metrics(model, data, batch_size=batch_size, name=\"\", **kw):\n",
        "    squared_error = abs_error = num_samples = 0.0\n",
        "    for batch_x, batch_y in iterate_minibatches(data, batch_size=batch_size, shuffle=False, **kw):\n",
        "        batch_pred = model.predict(batch_x)[:, 0]\n",
        "        squared_error += np.sum(np.square(batch_pred - batch_y))\n",
        "        abs_error += np.sum(np.abs(batch_pred - batch_y))\n",
        "        num_samples += len(batch_y)\n",
        "    print(\"%s results:\" % (name or \"\"))\n",
        "    print(\"Mean square error: %.5f\" % (squared_error / num_samples))\n",
        "    print(\"Mean absolute error: %.5f\" % (abs_error / num_samples))\n",
        "    return squared_error, abs_error\n",
        "    \n",
        "print_metrics(model, data_train, name='Train')\n",
        "print_metrics(model, data_val, name='Val');"
      ],
      "execution_count": 32,
      "outputs": [
        {
          "output_type": "stream",
          "text": [
            "Train results:\n",
            "Mean square error: 0.06793\n",
            "Mean absolute error: 0.19428\n",
            "Val results:\n",
            "Mean square error: 0.08212\n",
            "Mean absolute error: 0.21511\n"
          ],
          "name": "stdout"
        }
      ]
    },
    {
      "cell_type": "markdown",
      "metadata": {
        "id": "nHwkrnHCb9m6",
        "colab_type": "text"
      },
      "source": [
        "### Bonus part: explaining model predictions\n",
        "\n",
        "It's usually a good idea to understand how your model works before you let it make actual decisions. It's simple for linear models: just see which words learned positive or negative weights. However, its much harder for neural networks that learn complex nonlinear dependencies.\n",
        "\n",
        "There are, however, some ways to look inside the black box:\n",
        "* Seeing how model responds to input perturbations\n",
        "* Finding inputs that maximize/minimize activation of some chosen neurons (_read more [on distill.pub](https://distill.pub/2018/building-blocks/)_)\n",
        "* Building local linear approximations to your neural network: [article](https://arxiv.org/abs/1602.04938), [eli5 library](https://github.com/TeamHG-Memex/eli5/tree/master/eli5/formatters)\n",
        "\n",
        "Today we gonna try the first method just because it's the simplest one."
      ]
    },
    {
      "cell_type": "code",
      "metadata": {
        "id": "zXA0dNeHb9m6",
        "colab_type": "code",
        "colab": {}
      },
      "source": [
        "def explain(model, sample, col_name='Title'):\n",
        "    \"\"\" Computes the effect each word had on model predictions \"\"\"\n",
        "    sample = dict(sample)\n",
        "    sample_col_tokens = [tokens[token_to_id.get(tok, 0)] for tok in sample[col_name].split()]\n",
        "    data_drop_one_token = pd.DataFrame([sample] * (len(sample_col_tokens) + 1))\n",
        "\n",
        "    for drop_i in range(len(sample_col_tokens)):\n",
        "        data_drop_one_token.loc[drop_i, col_name] = ' '.join(UNK if i == drop_i else tok\n",
        "                                                   for i, tok in enumerate(sample_col_tokens)) \n",
        "\n",
        "    *predictions_drop_one_token, baseline_pred = model.predict(make_batch(data_drop_one_token))[:, 0]\n",
        "    diffs = baseline_pred - predictions_drop_one_token\n",
        "    return list(zip(sample_col_tokens, diffs))"
      ],
      "execution_count": 0,
      "outputs": []
    },
    {
      "cell_type": "code",
      "metadata": {
        "id": "VfUhiBHLb9m9",
        "colab_type": "code",
        "colab": {}
      },
      "source": [
        "from IPython.display import HTML, display_html\n",
        "\n",
        "def draw_html(tokens_and_weights, cmap=plt.get_cmap(\"bwr\"), display=True,\n",
        "              token_template=\"\"\"<span style=\"background-color: {color_hex}\">{token}</span>\"\"\",\n",
        "              font_style=\"font-size:14px;\"\n",
        "             ):\n",
        "    \n",
        "    def get_color_hex(weight):\n",
        "        rgba = cmap(1. / (1 + np.exp(weight)), bytes=True)\n",
        "        return '#%02X%02X%02X' % rgba[:3]\n",
        "    \n",
        "    tokens_html = [\n",
        "        token_template.format(token=token, color_hex=get_color_hex(weight))\n",
        "        for token, weight in tokens_and_weights\n",
        "    ]\n",
        "    \n",
        "    \n",
        "    raw_html = \"\"\"<p style=\"{}\">{}</p>\"\"\".format(font_style, ' '.join(tokens_html))\n",
        "    if display:\n",
        "        display_html(HTML(raw_html))\n",
        "        \n",
        "    return raw_html\n",
        "    "
      ],
      "execution_count": 0,
      "outputs": []
    },
    {
      "cell_type": "code",
      "metadata": {
        "id": "nKDibAL4b9nA",
        "colab_type": "code",
        "colab": {
          "base_uri": "https://localhost:8080/",
          "height": 246
        },
        "outputId": "c32e8e53-efc6-48b7-db65-fb34e56b4459"
      },
      "source": [
        "i = 36605\n",
        "tokens_and_weights = explain(model, data.loc[i], \"Title\")\n",
        "draw_html([(tok, weight * 5) for tok, weight in tokens_and_weights], font_style='font-size:20px;');\n",
        "\n",
        "tokens_and_weights = explain(model, data.loc[i], \"FullDescription\")\n",
        "draw_html([(tok, weight * 10) for tok, weight in tokens_and_weights]);"
      ],
      "execution_count": 35,
      "outputs": [
        {
          "output_type": "display_data",
          "data": {
            "text/html": [
              "<p style=\"font-size:20px;\"><span style=\"background-color: #FFC8C8\">sales</span> <span style=\"background-color: #A6A6FF\">specialist</span> <span style=\"background-color: #FFCACA\">iv</span> <span style=\"background-color: #FFD8D8\">access</span> <span style=\"background-color: #FFCECE\">and</span> <span style=\"background-color: #FEFEFF\">infusion</span></p>"
            ]
          },
          "metadata": {
            "tags": []
          }
        },
        {
          "output_type": "display_data",
          "data": {
            "text/html": [
              "<p style=\"font-size:14px;\"><span style=\"background-color: #FFFEFE\">sales</span> <span style=\"background-color: #FCFCFF\">representative</span> <span style=\"background-color: #FCFCFF\">medical</span> <span style=\"background-color: #FFFEFE\">sales</span> <span style=\"background-color: #FFFEFE\">iv</span> <span style=\"background-color: #FFFAFA\">access</span> <span style=\"background-color: #FFFCFC\">and</span> <span style=\"background-color: #FFFEFE\">infusion</span> <span style=\"background-color: #FFFEFE\">an</span> <span style=\"background-color: #FFFEFE\">opportunity</span> <span style=\"background-color: #FFFEFE\">to</span> <span style=\"background-color: #FFFAFA\">work</span> <span style=\"background-color: #FFFEFE\">for</span> <span style=\"background-color: #FFFEFE\">the</span> <span style=\"background-color: #FFFEFE\">industry</span> <span style=\"background-color: #F8F8FF\">leading</span> <span style=\"background-color: #F8F8FF\">manufacturer</span> <span style=\"background-color: #F8F8FF\">of</span> <span style=\"background-color: #FAFAFF\">iv</span> <span style=\"background-color: #F8F8FF\">access</span> <span style=\"background-color: #FFFCFC\">and</span> <span style=\"background-color: #FFFCFC\">infusion</span> <span style=\"background-color: #FFFEFE\">solutions</span> <span style=\"background-color: #FFFEFE\">.</span> <span style=\"background-color: #FFFEFE\">formally</span> <span style=\"background-color: #F8F8FF\">recognised</span> <span style=\"background-color: #FFFAFA\">as</span> <span style=\"background-color: #FFF2F2\">the</span> <span style=\"background-color: #FFF6F6\">number</span> <span style=\"background-color: #FAFAFF\">****</span> <span style=\"background-color: #F8F8FF\">company</span> <span style=\"background-color: #DADAFF\">in</span> <span style=\"background-color: #E6E6FF\">this</span> <span style=\"background-color: #F6F6FF\">market</span> <span style=\"background-color: #C2C2FF\">space</span> <span style=\"background-color: #FFFEFE\">,</span> <span style=\"background-color: #FFFEFE\">our</span> <span style=\"background-color: #FEFEFF\">client</span> <span style=\"background-color: #FEFEFF\">are</span> <span style=\"background-color: #FEFEFF\">an</span> <span style=\"background-color: #FFFEFE\">ethical</span> <span style=\"background-color: #FFFAFA\">and</span> <span style=\"background-color: #FEFEFF\">dynamic</span> <span style=\"background-color: #FEFEFF\">organisation</span> <span style=\"background-color: #FEFEFF\">absolutely</span> <span style=\"background-color: #FFFEFE\">committed</span> <span style=\"background-color: #FFFEFE\">to</span> <span style=\"background-color: #FFFEFE\">the</span> <span style=\"background-color: #FFFEFE\">advancement</span> <span style=\"background-color: #FFFEFE\">of</span> <span style=\"background-color: #FFFEFE\">innovative</span> <span style=\"background-color: #FFFEFE\">technologies</span> <span style=\"background-color: #FFFEFE\">.</span> <span style=\"background-color: #FFFEFE\">job</span> <span style=\"background-color: #FFFEFE\">title</span> <span style=\"background-color: #FFFEFE\">:</span> <span style=\"background-color: #FFFEFE\">sales</span> <span style=\"background-color: #FFFEFE\">specialist</span> <span style=\"background-color: #FFFEFE\">iv</span> <span style=\"background-color: #FFFEFE\">access</span> <span style=\"background-color: #FFFEFE\">and</span> <span style=\"background-color: #FFFEFE\">infusion</span> <span style=\"background-color: #FFFEFE\">selling</span> <span style=\"background-color: #FFFEFE\">:</span> <span style=\"background-color: #FFFEFE\">medication</span> <span style=\"background-color: #F8F8FF\">delivery</span> <span style=\"background-color: #FFFCFC\">solutions</span> <span style=\"background-color: #F2F2FF\">selling</span> <span style=\"background-color: #FFFAFA\">to</span> <span style=\"background-color: #FFEEEE\">:</span> <span style=\"background-color: #FFFEFE\">iv</span> <span style=\"background-color: #FFFEFE\">teams</span> <span style=\"background-color: #FFFEFE\">,</span> <span style=\"background-color: #FFFEFE\">infection</span> <span style=\"background-color: #FFFEFE\">control</span> <span style=\"background-color: #FCFCFF\">,</span> <span style=\"background-color: #FAFAFF\">lead</span> <span style=\"background-color: #FAFAFF\">intensive</span> <span style=\"background-color: #FAFAFF\">care</span> <span style=\"background-color: #FFFAFA\">nurse</span> <span style=\"background-color: #FFFEFE\">specialists</span> <span style=\"background-color: #FFFEFE\">,</span> <span style=\"background-color: #FFFEFE\">ward</span> <span style=\"background-color: #FFFEFE\">managers</span> <span style=\"background-color: #FFFEFE\">territory</span> <span style=\"background-color: #FFFEFE\">:</span> <span style=\"background-color: #FEFEFF\">east</span> <span style=\"background-color: #FFFCFC\">midlands</span> <span style=\"background-color: #FEFEFF\">location</span> <span style=\"background-color: #FFFEFE\">:</span> <span style=\"background-color: #FFFEFE\">east</span> <span style=\"background-color: #FFFEFE\">midlands</span> <span style=\"background-color: #FFFEFE\">package</span> <span style=\"background-color: #FFF6F6\">:</span> <span style=\"background-color: #FFF8F8\">basic</span> <span style=\"background-color: #FFF2F2\">:</span> <span style=\"background-color: #FFF4F4\">****</span> <span style=\"background-color: #FFF4F4\">k</span> <span style=\"background-color: #FFF4F4\">****</span> <span style=\"background-color: #FFF4F4\">k</span> <span style=\"background-color: #FFFEFE\">,</span> <span style=\"background-color: #FFF6F6\">uncapped</span> <span style=\"background-color: #FFFEFE\">bonus</span> <span style=\"background-color: #FFFEFE\">in</span> <span style=\"background-color: #FFFEFE\">addition</span> <span style=\"background-color: #FFEEEE\">,</span> <span style=\"background-color: #FFEAEA\">full</span> <span style=\"background-color: #F8F8FF\">corporate</span> <span style=\"background-color: #FFEEEE\">benefits</span> <span style=\"background-color: #FFD3D3\">company</span> <span style=\"background-color: #FCFCFF\">information</span> <span style=\"background-color: #EEEEFF\">hugely</span> <span style=\"background-color: #FFF0F0\">ethical</span> <span style=\"background-color: #F2F2FF\">and</span> <span style=\"background-color: #EEEEFF\">professional</span> <span style=\"background-color: #EEEEFF\">global</span> <span style=\"background-color: #FEFEFF\">organisation</span> <span style=\"background-color: #E0E0FF\">extremely</span> <span style=\"background-color: #FCFCFF\">well</span> <span style=\"background-color: #F6F6FF\">established</span> <span style=\"background-color: #FFFEFE\">in</span> <span style=\"background-color: #FFFEFE\">the</span> <span style=\"background-color: #FFFEFE\">uk</span> <span style=\"background-color: #FFFEFE\">the</span> <span style=\"background-color: #FFFEFE\">market</span> <span style=\"background-color: #FFFEFE\">leader</span> <span style=\"background-color: #FFFEFE\">across</span> <span style=\"background-color: #FFE4E4\">all</span> <span style=\"background-color: #FFECEC\">of</span> <span style=\"background-color: #FFF8F8\">their</span> <span style=\"background-color: #FFF6F6\">core</span> <span style=\"background-color: #FFEEEE\">business</span> <span style=\"background-color: #FFEEEE\">areas</span> <span style=\"background-color: #FFF8F8\">focus</span> <span style=\"background-color: #FFF8F8\">on</span> <span style=\"background-color: #FFFCFC\">providing</span> <span style=\"background-color: #FFFEFE\">cutting</span> <span style=\"background-color: #FCFCFF\">edge</span> <span style=\"background-color: #FFFCFC\">solutions</span> <span style=\"background-color: #FEFEFF\">along</span> <span style=\"background-color: #FFFEFE\">with</span> <span style=\"background-color: #FEFEFF\">outstanding</span> <span style=\"background-color: #FFFEFE\">service</span> <span style=\"background-color: #FEFEFF\">and</span> <span style=\"background-color: #FFFEFE\">support</span> <span style=\"background-color: #FFFAFA\">a</span> <span style=\"background-color: #FFFAFA\">business</span> <span style=\"background-color: #FFFCFC\">that</span> <span style=\"background-color: #FFFAFA\">retain</span> <span style=\"background-color: #FFF8F8\">talented</span> <span style=\"background-color: #FFFEFE\">personnel</span> <span style=\"background-color: #FFFEFE\">by</span> <span style=\"background-color: #FFFEFE\">offering</span> <span style=\"background-color: #FFFEFE\">a</span> <span style=\"background-color: #FFFEFE\">strong</span> <span style=\"background-color: #F6F6FF\">platform</span> <span style=\"background-color: #FAFAFF\">for</span> <span style=\"background-color: #FFFCFC\">career</span> <span style=\"background-color: #F6F6FF\">development</span> <span style=\"background-color: #F6F6FF\">sales</span> <span style=\"background-color: #FCFCFF\">specialist</span> <span style=\"background-color: #FCFCFF\">iv</span> <span style=\"background-color: #FCFCFF\">access</span> <span style=\"background-color: #FCFCFF\">and</span> <span style=\"background-color: #FEFEFF\">infusion</span> <span style=\"background-color: #FFFAFA\">you</span> <span style=\"background-color: #FFFEFE\">must</span> <span style=\"background-color: #FFFEFE\">have</span> <span style=\"background-color: #FFF0F0\">/</span> <span style=\"background-color: #FFFEFE\">be</span> <span style=\"background-color: #F3F3FF\">the</span> <span style=\"background-color: #FFFEFE\">following</span> <span style=\"background-color: #FFFEFE\">at</span> <span style=\"background-color: #FFFEFE\">least</span> <span style=\"background-color: #FFFEFE\">2</span> <span style=\"background-color: #E3E3FF\">years</span> <span style=\"background-color: #D6D6FF\">medical</span> <span style=\"background-color: #FFE8E8\">device</span> <span style=\"background-color: #FFEEEE\">sales</span> <span style=\"background-color: #F3F3FF\">experience</span> <span style=\"background-color: #FFFCFC\">.</span> <span style=\"background-color: #FFFEFE\">candidates</span> <span style=\"background-color: #FFFEFE\">who</span> <span style=\"background-color: #FFFEFE\">have</span> <span style=\"background-color: #FFFAFA\">sold</span> <span style=\"background-color: #FFFEFE\">disposables</span> <span style=\"background-color: #FFFEFE\">/</span> <span style=\"background-color: #FFFEFE\">consumables</span> <span style=\"background-color: #FFFEFE\">or</span> <span style=\"background-color: #FFFEFE\">similar</span> <span style=\"background-color: #FFFEFE\">into</span> <span style=\"background-color: #FFFEFE\">hospitals</span> <span style=\"background-color: #FFFEFE\">would</span> <span style=\"background-color: #FFFEFE\">be</span> <span style=\"background-color: #FFFEFE\">of</span> <span style=\"background-color: #FFF8F8\">particular</span> <span style=\"background-color: #FFF8F8\">interest</span> <span style=\"background-color: #FEFEFF\">.</span> <span style=\"background-color: #FFF8F8\">candidates</span> <span style=\"background-color: #FCFCFF\">must</span> <span style=\"background-color: #FCFCFF\">have</span> <span style=\"background-color: #FFF8F8\">sold</span> <span style=\"background-color: #FFF4F4\">into</span> <span style=\"background-color: #F3F3FF\">hospitals</span> <span style=\"background-color: #E6E6FF\">demonstrable</span> <span style=\"background-color: #FEFEFF\">performance</span> <span style=\"background-color: #FEFEFF\">and</span> <span style=\"background-color: #FEFEFF\">achievements</span> <span style=\"background-color: #FFFEFE\">so</span> <span style=\"background-color: #FFFCFC\">far</span> <span style=\"background-color: #FFFEFE\">personable</span> <span style=\"background-color: #FFFEFE\">,</span> <span style=\"background-color: #FFFEFE\">adaptable</span> <span style=\"background-color: #FFFEFE\">and</span> <span style=\"background-color: #FFFEFE\">willing</span> <span style=\"background-color: #FFE4E4\">to</span> <span style=\"background-color: #FFE4E4\">learn</span> <span style=\"background-color: #FEFEFF\">keen</span> <span style=\"background-color: #FFE8E8\">and</span> <span style=\"background-color: #FFF2F2\">eager</span> <span style=\"background-color: #FCFCFF\">to</span> <span style=\"background-color: #FCFCFF\">be</span> <span style=\"background-color: #FCFCFF\">a</span> <span style=\"background-color: #FFFCFC\">success</span> <span style=\"background-color: #FCFCFF\">candidates</span> <span style=\"background-color: #FFFEFE\">must</span> <span style=\"background-color: #FFFCFC\">have</span> <span style=\"background-color: #F8F8FF\">a</span> <span style=\"background-color: #FFFEFE\">degree</span> <span style=\"background-color: #FFFEFE\">or</span> <span style=\"background-color: #FFFAFA\">at</span> <span style=\"background-color: #FFF6F6\">least</span> <span style=\"background-color: #FFF4F4\">be</span> <span style=\"background-color: #FFE8E8\">able</span> <span style=\"background-color: #FFF4F4\">to</span> <span style=\"background-color: #FFF8F8\">show</span> <span style=\"background-color: #FFFEFE\">a</span> <span style=\"background-color: #FFFEFE\">strong</span> <span style=\"background-color: #FFFEFE\">ability</span> <span style=\"background-color: #FFFEFE\">to</span> <span style=\"background-color: #FEFEFF\">learn</span> <span style=\"background-color: #FEFEFF\">role</span> <span style=\"background-color: #FFFCFC\">information</span> <span style=\"background-color: #FEFEFF\">managing</span> <span style=\"background-color: #FFFEFE\">the</span> <span style=\"background-color: #D6D6FF\">east</span> <span style=\"background-color: #F2F2FF\">midlands</span> <span style=\"background-color: #A8A8FF\">region</span> <span style=\"background-color: #C3C3FF\">selling</span> <span style=\"background-color: #D3D3FF\">across</span> <span style=\"background-color: #FFFEFE\">the</span> <span style=\"background-color: #FFFEFE\">company</span> <span style=\"background-color: #FFFEFE\">'</span> <span style=\"background-color: #FFFEFE\">s</span> <span style=\"background-color: #FFFEFE\">range</span> <span style=\"background-color: #FFFCFC\">of</span> <span style=\"background-color: #FFFCFC\">iv</span> <span style=\"background-color: #FFFCFC\">and</span> <span style=\"background-color: #FFFCFC\">infusion</span> <span style=\"background-color: #FFFCFC\">solutions</span> <span style=\"background-color: #F6F6FF\">portfolio</span> <span style=\"background-color: #F6F6FF\">selling</span> <span style=\"background-color: #FFF6F6\">into</span> <span style=\"background-color: #F8F8FF\">lead</span> <span style=\"background-color: #FEFEFF\">intensive</span> <span style=\"background-color: #FFFEFE\">care</span> <span style=\"background-color: #FFFEFE\">nurse</span> <span style=\"background-color: #FFFEFE\">specialists</span> <span style=\"background-color: #FFFEFE\">,</span> <span style=\"background-color: #FFFEFE\">ward</span> <span style=\"background-color: #FFFEFE\">managers</span> <span style=\"background-color: #FFFEFE\">,</span> <span style=\"background-color: #FFFEFE\">iv</span> <span style=\"background-color: #FFFEFE\">teams</span> <span style=\"background-color: #FFFEFE\">,</span> <span style=\"background-color: #FEFEFF\">infection</span> <span style=\"background-color: #FFFCFC\">control</span> <span style=\"background-color: #FCFCFF\">teams</span> <span style=\"background-color: #FFFCFC\">,</span> <span style=\"background-color: #FFFEFE\">procurement</span> <span style=\"background-color: #FFFEFE\">sales</span> <span style=\"background-color: #FFFEFE\">specialist</span> <span style=\"background-color: #FCFCFF\">iv</span> <span style=\"background-color: #FFFEFE\">access</span> <span style=\"background-color: #FFFEFE\">and</span> <span style=\"background-color: #FFFEFE\">infusion</span> <span style=\"background-color: #FFFEFE\">candidates</span> <span style=\"background-color: #FFFEFE\">must</span> <span style=\"background-color: #FFFCFC\">be</span> <span style=\"background-color: #FFFEFE\">eligible</span> <span style=\"background-color: #FFFEFE\">to</span> <span style=\"background-color: #FFFEFE\">work</span> <span style=\"background-color: #FFFEFE\">and</span> <span style=\"background-color: #FFFEFE\">live</span> <span style=\"background-color: #FFFEFE\">in</span> <span style=\"background-color: #FAFAFF\">the</span> <span style=\"background-color: #FFFEFE\">uk</span> <span style=\"background-color: #EEEEFF\">.</span> <span style=\"background-color: #F3F3FF\">please</span> <span style=\"background-color: #F0F0FF\">contact</span> <span style=\"background-color: #FFFEFE\">allan</span> <span style=\"background-color: #FFFEFE\">waller</span> <span style=\"background-color: #FFFEFE\">on</span> <span style=\"background-color: #FFFEFE\">****</span> <span style=\"background-color: #FFFEFE\">****</span> <span style=\"background-color: #FFFCFC\">****</span> <span style=\"background-color: #FFECEC\">or</span> <span style=\"background-color: #FFFCFC\">please</span> <span style=\"background-color: #FFFCFC\">hit</span> <span style=\"background-color: #FFE8E8\">the</span> <span style=\"background-color: #FFFEFE\">apply</span> <span style=\"background-color: #FCFCFF\">button</span> <span style=\"background-color: #FFFEFE\">.</span> <span style=\"background-color: #FFFEFE\">this</span> <span style=\"background-color: #FAFAFF\">job</span> <span style=\"background-color: #FEFEFF\">was</span> <span style=\"background-color: #FEFEFF\">originally</span> <span style=\"background-color: #FEFEFF\">posted</span> <span style=\"background-color: #FFFCFC\">as</span> <span style=\"background-color: #FEFEFF\">www</span> <span style=\"background-color: #FFF4F4\">.</span> <span style=\"background-color: #FFF4F4\">salestarget</span> <span style=\"background-color: #FFF4F4\">.</span> <span style=\"background-color: #F0F0FF\">co</span> <span style=\"background-color: #FFF4F4\">.</span> <span style=\"background-color: #FEFEFF\">uk</span> <span style=\"background-color: #FFFEFE\">/</span> <span style=\"background-color: #FEFEFF\">jobseeking</span> <span style=\"background-color: #FFFEFE\">/</span> <span style=\"background-color: #FFFEFE\">UNK</span> <span style=\"background-color: #FFFEFE\">****</span></p>"
            ]
          },
          "metadata": {
            "tags": []
          }
        }
      ]
    },
    {
      "cell_type": "code",
      "metadata": {
        "id": "VcpaEt4Ab9nD",
        "colab_type": "code",
        "colab": {
          "base_uri": "https://localhost:8080/",
          "height": 93
        },
        "outputId": "a6844c00-3341-4267-ce9d-e8ce8ca72ab3"
      },
      "source": [
        "i = 12077\n",
        "tokens_and_weights = explain(model, data.loc[i], \"Title\")\n",
        "draw_html([(tok, weight * 5) for tok, weight in tokens_and_weights], font_style='font-size:20px;');\n",
        "\n",
        "tokens_and_weights = explain(model, data.loc[i], \"FullDescription\")\n",
        "draw_html([(tok, weight * 10) for tok, weight in tokens_and_weights]);"
      ],
      "execution_count": 36,
      "outputs": [
        {
          "output_type": "display_data",
          "data": {
            "text/html": [
              "<p style=\"font-size:20px;\"><span style=\"background-color: #FFFEFE\">cleaning</span> <span style=\"background-color: #FFFEFE\">operative</span></p>"
            ]
          },
          "metadata": {
            "tags": []
          }
        },
        {
          "output_type": "display_data",
          "data": {
            "text/html": [
              "<p style=\"font-size:14px;\"><span style=\"background-color: #FFC2C2\">12</span> <span style=\"background-color: #FFC6C6\">.</span> <span style=\"background-color: #FFA6A6\">5</span> <span style=\"background-color: #FFC3C3\">hours</span> <span style=\"background-color: #FFCCCC\">per</span> <span style=\"background-color: #FFDEDE\">week</span> <span style=\"background-color: #FFDEDE\">monday</span> <span style=\"background-color: #FFDEDE\">friday</span> <span style=\"background-color: #FFE6E6\">9am</span> <span style=\"background-color: #FFF6F6\">11</span> <span style=\"background-color: #FFE2E2\">.</span> <span style=\"background-color: #FFF6F6\">30am</span> <span style=\"background-color: #EAEAFF\">duties</span> <span style=\"background-color: #FFDADA\">to</span> <span style=\"background-color: #FFE6E6\">include</span> <span style=\"background-color: #FFFAFA\">sweeping</span> <span style=\"background-color: #FFD6D6\">,</span> <span style=\"background-color: #D6D6FF\">mopping</span> <span style=\"background-color: #FFD6D6\">,</span> <span style=\"background-color: #D0D0FF\">vacuuming</span> <span style=\"background-color: #FFF8F8\">,</span> <span style=\"background-color: #FAFAFF\">buffing</span> <span style=\"background-color: #FFF8F8\">,</span> <span style=\"background-color: #FFF8F8\">cleaning</span> <span style=\"background-color: #FFFCFC\">staff</span> <span style=\"background-color: #ECECFF\">toilets</span> <span style=\"background-color: #E3E3FF\">and</span> <span style=\"background-color: #ECECFF\">rest</span> <span style=\"background-color: #FFFEFE\">room</span> <span style=\"background-color: #F6F6FF\">.</span> <span style=\"background-color: #FFE6E6\">must</span> <span style=\"background-color: #FFE4E4\">be</span> <span style=\"background-color: #FFE4E4\">able</span> <span style=\"background-color: #FFE8E8\">to</span> <span style=\"background-color: #FFD2D2\">read</span> <span style=\"background-color: #FCFCFF\">as</span> <span style=\"background-color: #FFFEFE\">they</span> <span style=\"background-color: #EAEAFF\">will</span> <span style=\"background-color: #FFFEFE\">be</span> <span style=\"background-color: #EAEAFF\">using</span> <span style=\"background-color: #FFFEFE\">UNK</span> <span style=\"background-color: #F8F8FF\">which</span> <span style=\"background-color: #F3F3FF\">need</span> <span style=\"background-color: #FFFEFE\">UNK</span> <span style=\"background-color: #F8F8FF\">as</span> <span style=\"background-color: #FFF6F6\">per</span> <span style=\"background-color: #FFF4F4\">instructions</span> <span style=\"background-color: #FEFEFF\">on</span> <span style=\"background-color: #FAFAFF\">the</span> <span style=\"background-color: #FFFCFC\">containers</span> <span style=\"background-color: #FEFEFF\">.</span> <span style=\"background-color: #FFF8F8\">sucessfull</span> <span style=\"background-color: #FFEEEE\">applicants</span> <span style=\"background-color: #FFF2F2\">will</span> <span style=\"background-color: #FFF0F0\">be</span> <span style=\"background-color: #FFE2E2\">trained</span> <span style=\"background-color: #FFFEFE\">on</span> <span style=\"background-color: #FFE4E4\">all</span> <span style=\"background-color: #F8F8FF\">electrical</span> <span style=\"background-color: #FFDADA\">appliances</span> <span style=\"background-color: #ECECFF\">and</span> <span style=\"background-color: #FFFEFE\">UNK</span> <span style=\"background-color: #FAFAFF\">of</span> <span style=\"background-color: #F6F6FF\">cleaning</span> <span style=\"background-color: #FFFCFC\">materials</span> <span style=\"background-color: #FFFEFE\">.</span></p>"
            ]
          },
          "metadata": {
            "tags": []
          }
        }
      ]
    },
    {
      "cell_type": "code",
      "metadata": {
        "id": "vrBkZo4fb9nE",
        "colab_type": "code",
        "colab": {
          "base_uri": "https://localhost:8080/",
          "height": 229
        },
        "outputId": "2a340b0b-a2cb-402d-cf78-3cd66a373e7d"
      },
      "source": [
        "i = np.random.randint(len(data))\n",
        "print(\"Index:\", i)\n",
        "print(\"Salary (gbp):\", np.expm1(model.predict(make_batch(data.iloc[i: i+1]))[0, 0]))\n",
        "\n",
        "tokens_and_weights = explain(model, data.loc[i], \"Title\")\n",
        "draw_html([(tok, weight * 5) for tok, weight in tokens_and_weights], font_style='font-size:20px;');\n",
        "\n",
        "tokens_and_weights = explain(model, data.loc[i], \"FullDescription\")\n",
        "draw_html([(tok, weight * 10) for tok, weight in tokens_and_weights]);"
      ],
      "execution_count": 37,
      "outputs": [
        {
          "output_type": "stream",
          "text": [
            "Index: 177935\n",
            "Salary (gbp): 19527.182\n"
          ],
          "name": "stdout"
        },
        {
          "output_type": "display_data",
          "data": {
            "text/html": [
              "<p style=\"font-size:20px;\"><span style=\"background-color: #E8E8FF\">group</span> <span style=\"background-color: #FFE0E0\">pensions</span> <span style=\"background-color: #FFB2B2\">administrator</span> <span style=\"background-color: #D2D2FF\">db</span> <span style=\"background-color: #FFE8E8\">/</span> <span style=\"background-color: #FFFEFE\">final</span> <span style=\"background-color: #FFFEFE\">salary</span></p>"
            ]
          },
          "metadata": {
            "tags": []
          }
        },
        {
          "output_type": "display_data",
          "data": {
            "text/html": [
              "<p style=\"font-size:14px;\"><span style=\"background-color: #B6B6FF\">lead</span> <span style=\"background-color: #FEFEFF\">group</span> <span style=\"background-color: #C8C8FF\">pensions</span> <span style=\"background-color: #FFF2F2\">administrators</span> <span style=\"background-color: #FFF8F8\">db</span> <span style=\"background-color: #FEFEFF\">/</span> <span style=\"background-color: #FEFEFF\">final</span> <span style=\"background-color: #FFFEFE\">salary</span> <span style=\"background-color: #FEFEFF\">********</span> <span style=\"background-color: #FEFEFF\">first</span> <span style=\"background-color: #FCFCFF\">class</span> <span style=\"background-color: #ECECFF\">benefits</span> <span style=\"background-color: #E8E8FF\">package</span> <span style=\"background-color: #EEEEFF\">.</span> <span style=\"background-color: #E3E3FF\">surrey</span> <span style=\"background-color: #F6F6FF\">.</span> <span style=\"background-color: #F8F8FF\">several</span> <span style=\"background-color: #FFFEFE\">positions</span> <span style=\"background-color: #F8F8FF\">on</span> <span style=\"background-color: #F2F2FF\">offer</span> <span style=\"background-color: #FEFEFF\">,</span> <span style=\"background-color: #FEFEFF\">as</span> <span style=\"background-color: #FCFCFF\">a</span> <span style=\"background-color: #FEFEFF\">result</span> <span style=\"background-color: #FEFEFF\">of</span> <span style=\"background-color: #FFFEFE\">new</span> <span style=\"background-color: #FEFEFF\">client</span> <span style=\"background-color: #FEFEFF\">installation</span> <span style=\"background-color: #FEFEFF\">and</span> <span style=\"background-color: #FFFEFE\">team</span> <span style=\"background-color: #FFFCFC\">expansion</span> <span style=\"background-color: #FFFEFE\">.</span> <span style=\"background-color: #FFFEFE\">an</span> <span style=\"background-color: #FFFEFE\">excellent</span> <span style=\"background-color: #FFFEFE\">time</span> <span style=\"background-color: #FFEAEA\">to</span> <span style=\"background-color: #FFF4F4\">join</span> <span style=\"background-color: #FFFEFE\">a</span> <span style=\"background-color: #F6F6FF\">highly</span> <span style=\"background-color: #FFE8E8\">respected</span> <span style=\"background-color: #FFF2F2\">leading</span> <span style=\"background-color: #EAEAFF\">firm</span> <span style=\"background-color: #FFF8F8\">of</span> <span style=\"background-color: #DADAFF\">pensions</span> <span style=\"background-color: #FFFAFA\">responding</span> <span style=\"background-color: #FFFAFA\">to</span> <span style=\"background-color: #FFFAFA\">day</span> <span style=\"background-color: #FFFAFA\">to</span> <span style=\"background-color: #FFFAFA\">day</span> <span style=\"background-color: #FFFAFA\">client</span> <span style=\"background-color: #FFFEFE\">/</span> <span style=\"background-color: #FEFEFF\">trustee</span> <span style=\"background-color: #FFFEFE\">/</span> <span style=\"background-color: #FFFEFE\">member</span> <span style=\"background-color: #FFFEFE\">queries</span> <span style=\"background-color: #FFE8E8\">.</span> <span style=\"background-color: #FFF8F8\">as</span> <span style=\"background-color: #DEDEFF\">a</span> <span style=\"background-color: #FCFCFF\">more</span> <span style=\"background-color: #E0E0FF\">senior</span> <span style=\"background-color: #FEFEFF\">member</span> <span style=\"background-color: #FEFEFF\">of</span> <span style=\"background-color: #FEFEFF\">the</span> <span style=\"background-color: #FCFCFF\">team</span> <span style=\"background-color: #FEFEFF\">,</span> <span style=\"background-color: #FEFEFF\">responsibilities</span> <span style=\"background-color: #FEFEFF\">will</span> <span style=\"background-color: #FCFCFF\">include</span> <span style=\"background-color: #FEFEFF\">providing</span> <span style=\"background-color: #FEFEFF\">guidance</span> <span style=\"background-color: #FEFEFF\">for</span> <span style=\"background-color: #FFF2F2\">less</span> <span style=\"background-color: #FEFEFF\">experienced</span> <span style=\"background-color: #FFFCFC\">administrators</span> <span style=\"background-color: #FFFEFE\">,</span> <span style=\"background-color: #FFFEFE\">checking</span> <span style=\"background-color: #FEFEFF\">work</span> <span style=\"background-color: #FEFEFF\">and</span> <span style=\"background-color: #FEFEFF\">calculations</span> <span style=\"background-color: #FFFAFA\">.</span> <span style=\"background-color: #FCFCFF\">the</span> <span style=\"background-color: #FFFEFE\">company</span> <span style=\"background-color: #FFFAFA\">has</span> <span style=\"background-color: #FCFCFF\">an</span> <span style=\"background-color: #FCFCFF\">excellent</span> <span style=\"background-color: #FFFCFC\">reputation</span> <span style=\"background-color: #FFDEDE\">for</span> <span style=\"background-color: #FFDCDC\">training</span> <span style=\"background-color: #FFE0E0\">and</span> <span style=\"background-color: #FFE2E2\">promoting</span> <span style=\"background-color: #FFFCFC\">staff</span> <span style=\"background-color: #FFFEFE\">from</span> <span style=\"background-color: #FFFEFE\">within</span> <span style=\"background-color: #FFFEFE\">,</span> <span style=\"background-color: #FEFEFF\">and</span> <span style=\"background-color: #FEFEFF\">are</span> <span style=\"background-color: #FFFEFE\">able</span> <span style=\"background-color: #FEFEFF\">to</span> <span style=\"background-color: #FFFEFE\">offer</span> <span style=\"background-color: #FFFEFE\">ongoing</span> <span style=\"background-color: #FFFCFC\">progression</span> <span style=\"background-color: #F3F3FF\">for</span> <span style=\"background-color: #FFFCFC\">career</span> <span style=\"background-color: #F6F6FF\">minded</span> <span style=\"background-color: #F0F0FF\">pensions</span> <span style=\"background-color: #FEFEFF\">professionals</span> <span style=\"background-color: #F8F8FF\">.</span> <span style=\"background-color: #FCFCFF\">easily</span> <span style=\"background-color: #FEFEFF\">UNK</span> <span style=\"background-color: #F6F6FF\">from</span> <span style=\"background-color: #FFFCFC\">most</span> <span style=\"background-color: #FFFCFC\">locations</span> <span style=\"background-color: #FFF8F8\">in</span> <span style=\"background-color: #FFFCFC\">surrey</span> <span style=\"background-color: #FFFAFA\">croydon</span> <span style=\"background-color: #FFFEFE\">,</span> <span style=\"background-color: #FEFEFF\">redhill</span> <span style=\"background-color: #FFFEFE\">,</span> <span style=\"background-color: #FFFCFC\">caterham</span> <span style=\"background-color: #FFFEFE\">,</span> <span style=\"background-color: #FEFEFF\">south</span> <span style=\"background-color: #FFFEFE\">london</span> <span style=\"background-color: #FEFEFF\">,</span> <span style=\"background-color: #FEFEFF\">as</span> <span style=\"background-color: #FEFEFF\">well</span> <span style=\"background-color: #FFFEFE\">as</span> <span style=\"background-color: #FEFEFF\">from</span> <span style=\"background-color: #FFFEFE\">kent</span> <span style=\"background-color: #FEFEFF\">,</span> <span style=\"background-color: #FEFEFF\">and</span> <span style=\"background-color: #FFF4F4\">sussex</span> <span style=\"background-color: #FEFEFF\">crawley</span> <span style=\"background-color: #FFF4F4\">,</span> <span style=\"background-color: #FFFCFC\">horsham</span> <span style=\"background-color: #FEFEFF\">etc</span> <span style=\"background-color: #FFFEFE\">.</span> <span style=\"background-color: #FEFEFF\">current</span> <span style=\"background-color: #FFFEFE\">/</span> <span style=\"background-color: #FFFCFC\">recent</span> <span style=\"background-color: #FEFEFF\">group</span> <span style=\"background-color: #FFFEFE\">pensions</span> <span style=\"background-color: #FFFEFE\">final</span> <span style=\"background-color: #FFFEFE\">salary</span> <span style=\"background-color: #FEFEFF\">(</span> <span style=\"background-color: #FFFEFE\">db</span> <span style=\"background-color: #FEFEFF\">)</span> <span style=\"background-color: #FFFEFE\">scheme</span> <span style=\"background-color: #FFF4F4\">administration</span> <span style=\"background-color: #FEFEFF\">experience</span> <span style=\"background-color: #FEFEFF\">is</span> <span style=\"background-color: #FFF6F6\">required</span> <span style=\"background-color: #FFFAFA\">,</span> <span style=\"background-color: #FFFAFA\">with</span> <span style=\"background-color: #FFF8F8\">an</span> <span style=\"background-color: #FFF4F4\">up</span> <span style=\"background-color: #F8F8FF\">to</span> <span style=\"background-color: #FFFAFA\">date</span> <span style=\"background-color: #FEFEFF\">knowledge</span> <span style=\"background-color: #FAFAFF\">of</span> <span style=\"background-color: #FAFAFF\">pensions</span> <span style=\"background-color: #FEFEFF\">legislative</span> <span style=\"background-color: #F0F0FF\">framework</span> <span style=\"background-color: #F3F3FF\">.</span> <span style=\"background-color: #FFF8F8\">it</span> <span style=\"background-color: #F8F8FF\">is</span> <span style=\"background-color: #FEFEFF\">envisaged</span> <span style=\"background-color: #FEFEFF\">that</span> <span style=\"background-color: #FEFEFF\">applicants</span> <span style=\"background-color: #FEFEFF\">will</span> <span style=\"background-color: #FEFEFF\">be</span> <span style=\"background-color: #FCFCFF\">able</span> <span style=\"background-color: #FEFEFF\">to</span> <span style=\"background-color: #FFFAFA\">offer</span> <span style=\"background-color: #FEFEFF\">at</span> <span style=\"background-color: #FFFEFE\">least</span> <span style=\"background-color: #FFFCFC\">34</span> <span style=\"background-color: #FCFCFF\">years</span> <span style=\"background-color: #FEFEFF\">relevant</span> <span style=\"background-color: #FFF6F6\">experience</span> <span style=\"background-color: #FFFEFE\">,</span> <span style=\"background-color: #FFF6F6\">to</span> <span style=\"background-color: #FFEEEE\">demonstrate</span> <span style=\"background-color: #FFF2F2\">the</span> <span style=\"background-color: #B0B0FF\">breadth</span> <span style=\"background-color: #D0D0FF\">of</span> <span style=\"background-color: #FEFEFF\">knowledge</span> <span style=\"background-color: #FEFEFF\">and</span> <span style=\"background-color: #FFFEFE\">ability</span> <span style=\"background-color: #FEFEFF\">to</span> <span style=\"background-color: #FEFEFF\">check</span> <span style=\"background-color: #F6F6FF\">work</span> <span style=\"background-color: #FAFAFF\">and</span> <span style=\"background-color: #FFFEFE\">offer</span> <span style=\"background-color: #FAFAFF\">mentoring</span> <span style=\"background-color: #F0F0FF\">to</span> <span style=\"background-color: #FFE4E4\">less</span> <span style=\"background-color: #FCFCFF\">experienced</span> <span style=\"background-color: #FFF6F6\">team</span> <span style=\"background-color: #FFEEEE\">members</span> <span style=\"background-color: #F8F8FF\">.</span> <span style=\"background-color: #FEFEFF\">knowledge</span> <span style=\"background-color: #FFF2F2\">/</span> <span style=\"background-color: #ECECFF\">experience</span> <span style=\"background-color: #FEFEFF\">of</span> <span style=\"background-color: #EAEAFF\">corporate</span> <span style=\"background-color: #F8F8FF\">/</span> <span style=\"background-color: #F8F8FF\">dc</span> <span style=\"background-color: #F6F6FF\">schemes</span> <span style=\"background-color: #F3F3FF\">is</span> <span style=\"background-color: #F3F3FF\">an</span> <span style=\"background-color: #FEFEFF\">advantage</span> <span style=\"background-color: #FEFEFF\">.</span> <span style=\"background-color: #FEFEFF\">minimum</span> <span style=\"background-color: #FEFEFF\">education</span> <span style=\"background-color: #FEFEFF\">to</span> <span style=\"background-color: #FAFAFF\">include</span> <span style=\"background-color: #FFF6F6\">maths</span> <span style=\"background-color: #FFF6F6\">progress</span> <span style=\"background-color: #FAFAFF\">with</span> <span style=\"background-color: #FAFAFF\">pensions</span> <span style=\"background-color: #FCFCFF\">professional</span> <span style=\"background-color: #FEFEFF\">study</span> <span style=\"background-color: #FAFAFF\">is</span> <span style=\"background-color: #FCFCFF\">an</span> <span style=\"background-color: #FEFEFF\">advantage</span> <span style=\"background-color: #FFFCFC\">and</span> <span style=\"background-color: #FFFCFC\">is</span> <span style=\"background-color: #FFFEFE\">fully</span> <span style=\"background-color: #FFFEFE\">supported</span> <span style=\"background-color: #FFFEFE\">.</span> <span style=\"background-color: #FFFCFC\">strong</span> <span style=\"background-color: #FFFCFC\">numerical</span> <span style=\"background-color: #FFFEFE\">skills</span> <span style=\"background-color: #FEFEFF\">,</span> <span style=\"background-color: #FFFCFC\">strong</span> <span style=\"background-color: #FEFEFF\">time</span> <span style=\"background-color: #FEFEFF\">management</span> <span style=\"background-color: #FFF8F8\">skills</span> <span style=\"background-color: #FEFEFF\">,</span> <span style=\"background-color: #FFFEFE\">proactive</span> <span style=\"background-color: #FEFEFF\">approach</span> <span style=\"background-color: #FEFEFF\">to</span> <span style=\"background-color: #FEFEFF\">client</span> <span style=\"background-color: #FEFEFF\">service</span></p>"
            ]
          },
          "metadata": {
            "tags": []
          }
        }
      ]
    },
    {
      "cell_type": "markdown",
      "metadata": {
        "id": "osSWDw7bb9nI",
        "colab_type": "text"
      },
      "source": [
        "__Terrible start-up idea #1962:__ make a tool that automaticaly rephrases your job description (or CV) to meet salary expectations :)"
      ]
    }
  ]
}